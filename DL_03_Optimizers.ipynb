{
  "cells": [
    {
      "cell_type": "code",
      "execution_count": 3,
      "metadata": {
        "id": "auaqKUAuFRwJ"
      },
      "outputs": [],
      "source": [
        "import numpy as np\n",
        "import pandas as pd\n",
        "import matplotlib.pyplot as plt\n",
        "\n",
        "from sklearn.preprocessing import OneHotEncoder\n",
        "from sklearn.preprocessing import RobustScaler\n",
        "from sklearn.model_selection import train_test_split"
      ]
    },
    {
      "cell_type": "code",
      "execution_count": 4,
      "metadata": {
        "id": "R7BOD99kHvAZ"
      },
      "outputs": [],
      "source": [
        "# Usaremos la base de datos: Beijing Multi-Site Air-Quality Data Data Set,\n",
        "# la cual puede ser obtenida desde https://archive.ics.uci.edu/ml/datasets/Beijing+Multi-Site+Air-Quality+Data\n",
        "# (revisar la página para más detalles sobre los datos)\n",
        "# Se ha proporcionado un archivo csv con la información obtenida de la estación\n",
        "# de monitoreo Aotizhongxin, el cual contiene 35,064 registros.\n",
        "\n",
        "# El objetivo es poder predecir la concetración de PM2.5 y de PM10 a partir de las\n",
        "# variables año, mes, día, hora, temperatura, presión, punto de rocío, \n",
        "# precipitación y velocidad del viento."
      ]
    },
    {
      "cell_type": "markdown",
      "metadata": {
        "id": "oN6aBWNOWrY7"
      },
      "source": [
        "# Part 1: Load data into Colab"
      ]
    },
    {
      "cell_type": "markdown",
      "metadata": {
        "colab": {
          "base_uri": "https://localhost:8080/",
          "height": 73
        },
        "id": "kB4uTQwSFkVr",
        "outputId": "37ed0194-788b-4a70-ad14-3d7d75554ff2"
      },
      "source": [
        "# Requiered to select a file from your HD\n",
        "from google.colab import files\n",
        "uploaded = files.upload()"
      ]
    },
    {
      "cell_type": "code",
      "execution_count": 5,
      "metadata": {},
      "outputs": [],
      "source": [
        "from my_path import my_path"
      ]
    },
    {
      "cell_type": "code",
      "execution_count": 6,
      "metadata": {
        "colab": {
          "base_uri": "https://localhost:8080/",
          "height": 423
        },
        "id": "JwhYkkpoGG8y",
        "outputId": "fc245acf-98b2-4f79-9f81-69c1c9fd57ab"
      },
      "outputs": [
        {
          "data": {
            "text/html": [
              "<div>\n",
              "<style scoped>\n",
              "    .dataframe tbody tr th:only-of-type {\n",
              "        vertical-align: middle;\n",
              "    }\n",
              "\n",
              "    .dataframe tbody tr th {\n",
              "        vertical-align: top;\n",
              "    }\n",
              "\n",
              "    .dataframe thead th {\n",
              "        text-align: right;\n",
              "    }\n",
              "</style>\n",
              "<table border=\"1\" class=\"dataframe\">\n",
              "  <thead>\n",
              "    <tr style=\"text-align: right;\">\n",
              "      <th></th>\n",
              "      <th>No</th>\n",
              "      <th>year</th>\n",
              "      <th>month</th>\n",
              "      <th>day</th>\n",
              "      <th>hour</th>\n",
              "      <th>PM2.5</th>\n",
              "      <th>PM10</th>\n",
              "      <th>SO2</th>\n",
              "      <th>NO2</th>\n",
              "      <th>CO</th>\n",
              "      <th>O3</th>\n",
              "      <th>TEMP</th>\n",
              "      <th>PRES</th>\n",
              "      <th>DEWP</th>\n",
              "      <th>RAIN</th>\n",
              "      <th>wd</th>\n",
              "      <th>WSPM</th>\n",
              "      <th>station</th>\n",
              "    </tr>\n",
              "  </thead>\n",
              "  <tbody>\n",
              "    <tr>\n",
              "      <th>0</th>\n",
              "      <td>1</td>\n",
              "      <td>2013</td>\n",
              "      <td>3</td>\n",
              "      <td>1</td>\n",
              "      <td>0</td>\n",
              "      <td>4.0</td>\n",
              "      <td>4.0</td>\n",
              "      <td>4.0</td>\n",
              "      <td>7.0</td>\n",
              "      <td>300.0</td>\n",
              "      <td>77.0</td>\n",
              "      <td>-0.7</td>\n",
              "      <td>1023.0</td>\n",
              "      <td>-18.8</td>\n",
              "      <td>0.0</td>\n",
              "      <td>NNW</td>\n",
              "      <td>4.4</td>\n",
              "      <td>Aotizhongxin</td>\n",
              "    </tr>\n",
              "    <tr>\n",
              "      <th>1</th>\n",
              "      <td>2</td>\n",
              "      <td>2013</td>\n",
              "      <td>3</td>\n",
              "      <td>1</td>\n",
              "      <td>1</td>\n",
              "      <td>8.0</td>\n",
              "      <td>8.0</td>\n",
              "      <td>4.0</td>\n",
              "      <td>7.0</td>\n",
              "      <td>300.0</td>\n",
              "      <td>77.0</td>\n",
              "      <td>-1.1</td>\n",
              "      <td>1023.2</td>\n",
              "      <td>-18.2</td>\n",
              "      <td>0.0</td>\n",
              "      <td>N</td>\n",
              "      <td>4.7</td>\n",
              "      <td>Aotizhongxin</td>\n",
              "    </tr>\n",
              "    <tr>\n",
              "      <th>2</th>\n",
              "      <td>3</td>\n",
              "      <td>2013</td>\n",
              "      <td>3</td>\n",
              "      <td>1</td>\n",
              "      <td>2</td>\n",
              "      <td>7.0</td>\n",
              "      <td>7.0</td>\n",
              "      <td>5.0</td>\n",
              "      <td>10.0</td>\n",
              "      <td>300.0</td>\n",
              "      <td>73.0</td>\n",
              "      <td>-1.1</td>\n",
              "      <td>1023.5</td>\n",
              "      <td>-18.2</td>\n",
              "      <td>0.0</td>\n",
              "      <td>NNW</td>\n",
              "      <td>5.6</td>\n",
              "      <td>Aotizhongxin</td>\n",
              "    </tr>\n",
              "    <tr>\n",
              "      <th>3</th>\n",
              "      <td>4</td>\n",
              "      <td>2013</td>\n",
              "      <td>3</td>\n",
              "      <td>1</td>\n",
              "      <td>3</td>\n",
              "      <td>6.0</td>\n",
              "      <td>6.0</td>\n",
              "      <td>11.0</td>\n",
              "      <td>11.0</td>\n",
              "      <td>300.0</td>\n",
              "      <td>72.0</td>\n",
              "      <td>-1.4</td>\n",
              "      <td>1024.5</td>\n",
              "      <td>-19.4</td>\n",
              "      <td>0.0</td>\n",
              "      <td>NW</td>\n",
              "      <td>3.1</td>\n",
              "      <td>Aotizhongxin</td>\n",
              "    </tr>\n",
              "    <tr>\n",
              "      <th>4</th>\n",
              "      <td>5</td>\n",
              "      <td>2013</td>\n",
              "      <td>3</td>\n",
              "      <td>1</td>\n",
              "      <td>4</td>\n",
              "      <td>3.0</td>\n",
              "      <td>3.0</td>\n",
              "      <td>12.0</td>\n",
              "      <td>12.0</td>\n",
              "      <td>300.0</td>\n",
              "      <td>72.0</td>\n",
              "      <td>-2.0</td>\n",
              "      <td>1025.2</td>\n",
              "      <td>-19.5</td>\n",
              "      <td>0.0</td>\n",
              "      <td>N</td>\n",
              "      <td>2.0</td>\n",
              "      <td>Aotizhongxin</td>\n",
              "    </tr>\n",
              "    <tr>\n",
              "      <th>...</th>\n",
              "      <td>...</td>\n",
              "      <td>...</td>\n",
              "      <td>...</td>\n",
              "      <td>...</td>\n",
              "      <td>...</td>\n",
              "      <td>...</td>\n",
              "      <td>...</td>\n",
              "      <td>...</td>\n",
              "      <td>...</td>\n",
              "      <td>...</td>\n",
              "      <td>...</td>\n",
              "      <td>...</td>\n",
              "      <td>...</td>\n",
              "      <td>...</td>\n",
              "      <td>...</td>\n",
              "      <td>...</td>\n",
              "      <td>...</td>\n",
              "      <td>...</td>\n",
              "    </tr>\n",
              "    <tr>\n",
              "      <th>35059</th>\n",
              "      <td>35060</td>\n",
              "      <td>2017</td>\n",
              "      <td>2</td>\n",
              "      <td>28</td>\n",
              "      <td>19</td>\n",
              "      <td>12.0</td>\n",
              "      <td>29.0</td>\n",
              "      <td>5.0</td>\n",
              "      <td>35.0</td>\n",
              "      <td>400.0</td>\n",
              "      <td>95.0</td>\n",
              "      <td>12.5</td>\n",
              "      <td>1013.5</td>\n",
              "      <td>-16.2</td>\n",
              "      <td>0.0</td>\n",
              "      <td>NW</td>\n",
              "      <td>2.4</td>\n",
              "      <td>Aotizhongxin</td>\n",
              "    </tr>\n",
              "    <tr>\n",
              "      <th>35060</th>\n",
              "      <td>35061</td>\n",
              "      <td>2017</td>\n",
              "      <td>2</td>\n",
              "      <td>28</td>\n",
              "      <td>20</td>\n",
              "      <td>13.0</td>\n",
              "      <td>37.0</td>\n",
              "      <td>7.0</td>\n",
              "      <td>45.0</td>\n",
              "      <td>500.0</td>\n",
              "      <td>81.0</td>\n",
              "      <td>11.6</td>\n",
              "      <td>1013.6</td>\n",
              "      <td>-15.1</td>\n",
              "      <td>0.0</td>\n",
              "      <td>WNW</td>\n",
              "      <td>0.9</td>\n",
              "      <td>Aotizhongxin</td>\n",
              "    </tr>\n",
              "    <tr>\n",
              "      <th>35061</th>\n",
              "      <td>35062</td>\n",
              "      <td>2017</td>\n",
              "      <td>2</td>\n",
              "      <td>28</td>\n",
              "      <td>21</td>\n",
              "      <td>16.0</td>\n",
              "      <td>37.0</td>\n",
              "      <td>10.0</td>\n",
              "      <td>66.0</td>\n",
              "      <td>700.0</td>\n",
              "      <td>58.0</td>\n",
              "      <td>10.8</td>\n",
              "      <td>1014.2</td>\n",
              "      <td>-13.3</td>\n",
              "      <td>0.0</td>\n",
              "      <td>NW</td>\n",
              "      <td>1.1</td>\n",
              "      <td>Aotizhongxin</td>\n",
              "    </tr>\n",
              "    <tr>\n",
              "      <th>35062</th>\n",
              "      <td>35063</td>\n",
              "      <td>2017</td>\n",
              "      <td>2</td>\n",
              "      <td>28</td>\n",
              "      <td>22</td>\n",
              "      <td>21.0</td>\n",
              "      <td>44.0</td>\n",
              "      <td>12.0</td>\n",
              "      <td>87.0</td>\n",
              "      <td>700.0</td>\n",
              "      <td>35.0</td>\n",
              "      <td>10.5</td>\n",
              "      <td>1014.4</td>\n",
              "      <td>-12.9</td>\n",
              "      <td>0.0</td>\n",
              "      <td>NNW</td>\n",
              "      <td>1.2</td>\n",
              "      <td>Aotizhongxin</td>\n",
              "    </tr>\n",
              "    <tr>\n",
              "      <th>35063</th>\n",
              "      <td>35064</td>\n",
              "      <td>2017</td>\n",
              "      <td>2</td>\n",
              "      <td>28</td>\n",
              "      <td>23</td>\n",
              "      <td>19.0</td>\n",
              "      <td>31.0</td>\n",
              "      <td>10.0</td>\n",
              "      <td>79.0</td>\n",
              "      <td>600.0</td>\n",
              "      <td>42.0</td>\n",
              "      <td>8.6</td>\n",
              "      <td>1014.1</td>\n",
              "      <td>-15.9</td>\n",
              "      <td>0.0</td>\n",
              "      <td>NNE</td>\n",
              "      <td>1.3</td>\n",
              "      <td>Aotizhongxin</td>\n",
              "    </tr>\n",
              "  </tbody>\n",
              "</table>\n",
              "<p>31815 rows × 18 columns</p>\n",
              "</div>"
            ],
            "text/plain": [
              "          No  year  month  day  hour  PM2.5  PM10   SO2   NO2     CO    O3  \\\n",
              "0          1  2013      3    1     0    4.0   4.0   4.0   7.0  300.0  77.0   \n",
              "1          2  2013      3    1     1    8.0   8.0   4.0   7.0  300.0  77.0   \n",
              "2          3  2013      3    1     2    7.0   7.0   5.0  10.0  300.0  73.0   \n",
              "3          4  2013      3    1     3    6.0   6.0  11.0  11.0  300.0  72.0   \n",
              "4          5  2013      3    1     4    3.0   3.0  12.0  12.0  300.0  72.0   \n",
              "...      ...   ...    ...  ...   ...    ...   ...   ...   ...    ...   ...   \n",
              "35059  35060  2017      2   28    19   12.0  29.0   5.0  35.0  400.0  95.0   \n",
              "35060  35061  2017      2   28    20   13.0  37.0   7.0  45.0  500.0  81.0   \n",
              "35061  35062  2017      2   28    21   16.0  37.0  10.0  66.0  700.0  58.0   \n",
              "35062  35063  2017      2   28    22   21.0  44.0  12.0  87.0  700.0  35.0   \n",
              "35063  35064  2017      2   28    23   19.0  31.0  10.0  79.0  600.0  42.0   \n",
              "\n",
              "       TEMP    PRES  DEWP  RAIN   wd  WSPM       station  \n",
              "0      -0.7  1023.0 -18.8   0.0  NNW   4.4  Aotizhongxin  \n",
              "1      -1.1  1023.2 -18.2   0.0    N   4.7  Aotizhongxin  \n",
              "2      -1.1  1023.5 -18.2   0.0  NNW   5.6  Aotizhongxin  \n",
              "3      -1.4  1024.5 -19.4   0.0   NW   3.1  Aotizhongxin  \n",
              "4      -2.0  1025.2 -19.5   0.0    N   2.0  Aotizhongxin  \n",
              "...     ...     ...   ...   ...  ...   ...           ...  \n",
              "35059  12.5  1013.5 -16.2   0.0   NW   2.4  Aotizhongxin  \n",
              "35060  11.6  1013.6 -15.1   0.0  WNW   0.9  Aotizhongxin  \n",
              "35061  10.8  1014.2 -13.3   0.0   NW   1.1  Aotizhongxin  \n",
              "35062  10.5  1014.4 -12.9   0.0  NNW   1.2  Aotizhongxin  \n",
              "35063   8.6  1014.1 -15.9   0.0  NNE   1.3  Aotizhongxin  \n",
              "\n",
              "[31815 rows x 18 columns]"
            ]
          },
          "execution_count": 6,
          "metadata": {},
          "output_type": "execute_result"
        }
      ],
      "source": [
        "# Import file and store it in a data frame\n",
        "df = pd.read_csv(my_path + '/PRSA_Aotizhongxin.csv') # Cambia al nombre del archivo que cargues\n",
        "df.dropna(inplace=True)\n",
        "df\n",
        "# Quedan 31,815 registros despues de eliminar NaN's"
      ]
    },
    {
      "cell_type": "markdown",
      "metadata": {
        "id": "7AnH6VY-W09n"
      },
      "source": [
        "# Part 2: Format data and split it into numpy arrays"
      ]
    },
    {
      "cell_type": "code",
      "execution_count": 16,
      "metadata": {
        "id": "OaRBLIHNdrSN"
      },
      "outputs": [],
      "source": [
        "# AUX function to put categorical data into one-hot encoding format\n",
        "def winddir_to_categorical(winddir):\n",
        "  enc = OneHotEncoder(sparse=False)\n",
        "  WD = enc.fit_transform(winddir)\n",
        "  print(\"== categories:\", enc.categories_, \"==\")\n",
        "  return WD, [item for sublist in enc.categories_ for item in sublist]"
      ]
    },
    {
      "cell_type": "code",
      "execution_count": 17,
      "metadata": {
        "colab": {
          "base_uri": "https://localhost:8080/",
          "height": 661
        },
        "id": "dFhZ5cEGSk2e",
        "outputId": "096d7965-8434-41da-f0e5-4b676d619abf"
      },
      "outputs": [
        {
          "name": "stdout",
          "output_type": "stream",
          "text": [
            "== categories: [array(['E', 'ENE', 'ESE', 'N', 'NE', 'NNE', 'NNW', 'NW', 'S', 'SE', 'SSE',\n",
            "       'SSW', 'SW', 'W', 'WNW', 'WSW'], dtype=object)] ==\n",
            "Input values X with shape (31815, 28). With values\n"
          ]
        },
        {
          "data": {
            "image/png": "[encoded data removed]",
            "text/plain": [
              "<Figure size 800x300 with 1 Axes>"
            ]
          },
          "metadata": {},
          "output_type": "display_data"
        },
        {
          "data": {
            "text/html": [
              "<div>\n",
              "<style scoped>\n",
              "    .dataframe tbody tr th:only-of-type {\n",
              "        vertical-align: middle;\n",
              "    }\n",
              "\n",
              "    .dataframe tbody tr th {\n",
              "        vertical-align: top;\n",
              "    }\n",
              "\n",
              "    .dataframe thead th {\n",
              "        text-align: right;\n",
              "    }\n",
              "</style>\n",
              "<table border=\"1\" class=\"dataframe\">\n",
              "  <thead>\n",
              "    <tr style=\"text-align: right;\">\n",
              "      <th></th>\n",
              "      <th>0</th>\n",
              "      <th>1</th>\n",
              "      <th>2</th>\n",
              "      <th>3</th>\n",
              "      <th>4</th>\n",
              "      <th>5</th>\n",
              "      <th>6</th>\n",
              "      <th>7</th>\n",
              "      <th>8</th>\n",
              "      <th>9</th>\n",
              "      <th>...</th>\n",
              "      <th>18</th>\n",
              "      <th>19</th>\n",
              "      <th>20</th>\n",
              "      <th>21</th>\n",
              "      <th>22</th>\n",
              "      <th>23</th>\n",
              "      <th>24</th>\n",
              "      <th>25</th>\n",
              "      <th>26</th>\n",
              "      <th>27</th>\n",
              "    </tr>\n",
              "  </thead>\n",
              "  <tbody>\n",
              "    <tr>\n",
              "      <th>count</th>\n",
              "      <td>31815.000000</td>\n",
              "      <td>31815.000000</td>\n",
              "      <td>31815.000000</td>\n",
              "      <td>31815.000000</td>\n",
              "      <td>31815.000000</td>\n",
              "      <td>31815.000000</td>\n",
              "      <td>31815.000000</td>\n",
              "      <td>31815.000000</td>\n",
              "      <td>31815.000000</td>\n",
              "      <td>31815.000000</td>\n",
              "      <td>...</td>\n",
              "      <td>31815.000000</td>\n",
              "      <td>31815.000000</td>\n",
              "      <td>31815.000000</td>\n",
              "      <td>31815.000000</td>\n",
              "      <td>31815.000000</td>\n",
              "      <td>31815.000000</td>\n",
              "      <td>31815.000000</td>\n",
              "      <td>31815.000000</td>\n",
              "      <td>31815.0000</td>\n",
              "      <td>31815.000000</td>\n",
              "    </tr>\n",
              "    <tr>\n",
              "      <th>mean</th>\n",
              "      <td>6.401886</td>\n",
              "      <td>15.578564</td>\n",
              "      <td>11.624800</td>\n",
              "      <td>17.167205</td>\n",
              "      <td>58.976332</td>\n",
              "      <td>1256.574729</td>\n",
              "      <td>56.240938</td>\n",
              "      <td>13.775611</td>\n",
              "      <td>1011.800385</td>\n",
              "      <td>3.241106</td>\n",
              "      <td>...</td>\n",
              "      <td>0.044507</td>\n",
              "      <td>0.053748</td>\n",
              "      <td>0.038158</td>\n",
              "      <td>0.039101</td>\n",
              "      <td>0.029672</td>\n",
              "      <td>0.060349</td>\n",
              "      <td>0.095772</td>\n",
              "      <td>0.033601</td>\n",
              "      <td>0.0314</td>\n",
              "      <td>0.062706</td>\n",
              "    </tr>\n",
              "    <tr>\n",
              "      <th>std</th>\n",
              "      <td>3.416847</td>\n",
              "      <td>8.794954</td>\n",
              "      <td>6.926874</td>\n",
              "      <td>22.760801</td>\n",
              "      <td>37.061384</td>\n",
              "      <td>1223.301208</td>\n",
              "      <td>57.834314</td>\n",
              "      <td>11.369035</td>\n",
              "      <td>10.338869</td>\n",
              "      <td>13.667863</td>\n",
              "      <td>...</td>\n",
              "      <td>0.206223</td>\n",
              "      <td>0.225524</td>\n",
              "      <td>0.191581</td>\n",
              "      <td>0.193838</td>\n",
              "      <td>0.169682</td>\n",
              "      <td>0.238136</td>\n",
              "      <td>0.294284</td>\n",
              "      <td>0.180201</td>\n",
              "      <td>0.1744</td>\n",
              "      <td>0.242438</td>\n",
              "    </tr>\n",
              "    <tr>\n",
              "      <th>min</th>\n",
              "      <td>1.000000</td>\n",
              "      <td>1.000000</td>\n",
              "      <td>0.000000</td>\n",
              "      <td>0.571200</td>\n",
              "      <td>2.000000</td>\n",
              "      <td>100.000000</td>\n",
              "      <td>0.214200</td>\n",
              "      <td>-16.800000</td>\n",
              "      <td>985.900000</td>\n",
              "      <td>-35.300000</td>\n",
              "      <td>...</td>\n",
              "      <td>0.000000</td>\n",
              "      <td>0.000000</td>\n",
              "      <td>0.000000</td>\n",
              "      <td>0.000000</td>\n",
              "      <td>0.000000</td>\n",
              "      <td>0.000000</td>\n",
              "      <td>0.000000</td>\n",
              "      <td>0.000000</td>\n",
              "      <td>0.0000</td>\n",
              "      <td>0.000000</td>\n",
              "    </tr>\n",
              "    <tr>\n",
              "      <th>25%</th>\n",
              "      <td>3.000000</td>\n",
              "      <td>8.000000</td>\n",
              "      <td>6.000000</td>\n",
              "      <td>3.000000</td>\n",
              "      <td>30.000000</td>\n",
              "      <td>500.000000</td>\n",
              "      <td>8.000000</td>\n",
              "      <td>3.400000</td>\n",
              "      <td>1003.300000</td>\n",
              "      <td>-8.000000</td>\n",
              "      <td>...</td>\n",
              "      <td>0.000000</td>\n",
              "      <td>0.000000</td>\n",
              "      <td>0.000000</td>\n",
              "      <td>0.000000</td>\n",
              "      <td>0.000000</td>\n",
              "      <td>0.000000</td>\n",
              "      <td>0.000000</td>\n",
              "      <td>0.000000</td>\n",
              "      <td>0.0000</td>\n",
              "      <td>0.000000</td>\n",
              "    </tr>\n",
              "    <tr>\n",
              "      <th>50%</th>\n",
              "      <td>6.000000</td>\n",
              "      <td>15.000000</td>\n",
              "      <td>12.000000</td>\n",
              "      <td>8.000000</td>\n",
              "      <td>53.000000</td>\n",
              "      <td>800.000000</td>\n",
              "      <td>42.000000</td>\n",
              "      <td>14.800000</td>\n",
              "      <td>1011.200000</td>\n",
              "      <td>4.000000</td>\n",
              "      <td>...</td>\n",
              "      <td>0.000000</td>\n",
              "      <td>0.000000</td>\n",
              "      <td>0.000000</td>\n",
              "      <td>0.000000</td>\n",
              "      <td>0.000000</td>\n",
              "      <td>0.000000</td>\n",
              "      <td>0.000000</td>\n",
              "      <td>0.000000</td>\n",
              "      <td>0.0000</td>\n",
              "      <td>0.000000</td>\n",
              "    </tr>\n",
              "    <tr>\n",
              "      <th>75%</th>\n",
              "      <td>9.000000</td>\n",
              "      <td>23.000000</td>\n",
              "      <td>18.000000</td>\n",
              "      <td>21.000000</td>\n",
              "      <td>82.000000</td>\n",
              "      <td>1500.000000</td>\n",
              "      <td>82.000000</td>\n",
              "      <td>23.400000</td>\n",
              "      <td>1020.000000</td>\n",
              "      <td>15.700000</td>\n",
              "      <td>...</td>\n",
              "      <td>0.000000</td>\n",
              "      <td>0.000000</td>\n",
              "      <td>0.000000</td>\n",
              "      <td>0.000000</td>\n",
              "      <td>0.000000</td>\n",
              "      <td>0.000000</td>\n",
              "      <td>0.000000</td>\n",
              "      <td>0.000000</td>\n",
              "      <td>0.0000</td>\n",
              "      <td>0.000000</td>\n",
              "    </tr>\n",
              "    <tr>\n",
              "      <th>max</th>\n",
              "      <td>12.000000</td>\n",
              "      <td>31.000000</td>\n",
              "      <td>23.000000</td>\n",
              "      <td>229.000000</td>\n",
              "      <td>290.000000</td>\n",
              "      <td>10000.000000</td>\n",
              "      <td>423.000000</td>\n",
              "      <td>40.500000</td>\n",
              "      <td>1042.000000</td>\n",
              "      <td>28.500000</td>\n",
              "      <td>...</td>\n",
              "      <td>1.000000</td>\n",
              "      <td>1.000000</td>\n",
              "      <td>1.000000</td>\n",
              "      <td>1.000000</td>\n",
              "      <td>1.000000</td>\n",
              "      <td>1.000000</td>\n",
              "      <td>1.000000</td>\n",
              "      <td>1.000000</td>\n",
              "      <td>1.0000</td>\n",
              "      <td>1.000000</td>\n",
              "    </tr>\n",
              "  </tbody>\n",
              "</table>\n",
              "<p>8 rows × 28 columns</p>\n",
              "</div>"
            ],
            "text/plain": [
              "                 0             1             2             3             4   \\\n",
              "count  31815.000000  31815.000000  31815.000000  31815.000000  31815.000000   \n",
              "mean       6.401886     15.578564     11.624800     17.167205     58.976332   \n",
              "std        3.416847      8.794954      6.926874     22.760801     37.061384   \n",
              "min        1.000000      1.000000      0.000000      0.571200      2.000000   \n",
              "25%        3.000000      8.000000      6.000000      3.000000     30.000000   \n",
              "50%        6.000000     15.000000     12.000000      8.000000     53.000000   \n",
              "75%        9.000000     23.000000     18.000000     21.000000     82.000000   \n",
              "max       12.000000     31.000000     23.000000    229.000000    290.000000   \n",
              "\n",
              "                 5             6             7             8             9   \\\n",
              "count  31815.000000  31815.000000  31815.000000  31815.000000  31815.000000   \n",
              "mean    1256.574729     56.240938     13.775611   1011.800385      3.241106   \n",
              "std     1223.301208     57.834314     11.369035     10.338869     13.667863   \n",
              "min      100.000000      0.214200    -16.800000    985.900000    -35.300000   \n",
              "25%      500.000000      8.000000      3.400000   1003.300000     -8.000000   \n",
              "50%      800.000000     42.000000     14.800000   1011.200000      4.000000   \n",
              "75%     1500.000000     82.000000     23.400000   1020.000000     15.700000   \n",
              "max    10000.000000    423.000000     40.500000   1042.000000     28.500000   \n",
              "\n",
              "       ...            18            19            20            21  \\\n",
              "count  ...  31815.000000  31815.000000  31815.000000  31815.000000   \n",
              "mean   ...      0.044507      0.053748      0.038158      0.039101   \n",
              "std    ...      0.206223      0.225524      0.191581      0.193838   \n",
              "min    ...      0.000000      0.000000      0.000000      0.000000   \n",
              "25%    ...      0.000000      0.000000      0.000000      0.000000   \n",
              "50%    ...      0.000000      0.000000      0.000000      0.000000   \n",
              "75%    ...      0.000000      0.000000      0.000000      0.000000   \n",
              "max    ...      1.000000      1.000000      1.000000      1.000000   \n",
              "\n",
              "                 22            23            24            25          26  \\\n",
              "count  31815.000000  31815.000000  31815.000000  31815.000000  31815.0000   \n",
              "mean       0.029672      0.060349      0.095772      0.033601      0.0314   \n",
              "std        0.169682      0.238136      0.294284      0.180201      0.1744   \n",
              "min        0.000000      0.000000      0.000000      0.000000      0.0000   \n",
              "25%        0.000000      0.000000      0.000000      0.000000      0.0000   \n",
              "50%        0.000000      0.000000      0.000000      0.000000      0.0000   \n",
              "75%        0.000000      0.000000      0.000000      0.000000      0.0000   \n",
              "max        1.000000      1.000000      1.000000      1.000000      1.0000   \n",
              "\n",
              "                 27  \n",
              "count  31815.000000  \n",
              "mean       0.062706  \n",
              "std        0.242438  \n",
              "min        0.000000  \n",
              "25%        0.000000  \n",
              "50%        0.000000  \n",
              "75%        0.000000  \n",
              "max        1.000000  \n",
              "\n",
              "[8 rows x 28 columns]"
            ]
          },
          "execution_count": 17,
          "metadata": {},
          "output_type": "execute_result"
        }
      ],
      "source": [
        "# Extract input features and convert them to a numpy array\n",
        "labels = ['month',\t'day',\t'hour', 'SO2',\t'NO2',\t'CO',\t'O3', 'TEMP', 'PRES', 'DEWP', 'RAIN', 'WSPM' ]\n",
        "X = df[labels].to_numpy()\n",
        "WD, categories = winddir_to_categorical(df[['wd']])\n",
        "X = np.concatenate((X, WD), axis=1)\n",
        "\n",
        "print(f\"Input values X with shape {X.shape}. With values\")\n",
        "\n",
        "plt.figure(figsize=(8, 3))\n",
        "plt.boxplot(X)\n",
        "plt.xticks(range(1, 29), labels + categories, rotation=90)\n",
        "plt.show()\n",
        "\n",
        "pd.DataFrame(X).describe()"
      ]
    },
    {
      "cell_type": "code",
      "execution_count": 18,
      "metadata": {
        "colab": {
          "base_uri": "https://localhost:8080/",
          "height": 515
        },
        "id": "dA2VIaEEHGwA",
        "outputId": "276e2f3e-30d8-4a94-a5e7-488fa7123fb5"
      },
      "outputs": [
        {
          "data": {
            "image/png": "[encoded data removed]",
            "text/plain": [
              "<Figure size 800x300 with 1 Axes>"
            ]
          },
          "metadata": {},
          "output_type": "display_data"
        },
        {
          "data": {
            "text/html": [
              "<div>\n",
              "<style scoped>\n",
              "    .dataframe tbody tr th:only-of-type {\n",
              "        vertical-align: middle;\n",
              "    }\n",
              "\n",
              "    .dataframe tbody tr th {\n",
              "        vertical-align: top;\n",
              "    }\n",
              "\n",
              "    .dataframe thead th {\n",
              "        text-align: right;\n",
              "    }\n",
              "</style>\n",
              "<table border=\"1\" class=\"dataframe\">\n",
              "  <thead>\n",
              "    <tr style=\"text-align: right;\">\n",
              "      <th></th>\n",
              "      <th>0</th>\n",
              "      <th>1</th>\n",
              "    </tr>\n",
              "  </thead>\n",
              "  <tbody>\n",
              "    <tr>\n",
              "      <th>count</th>\n",
              "      <td>31815.00000</td>\n",
              "      <td>31815.000000</td>\n",
              "    </tr>\n",
              "    <tr>\n",
              "      <th>mean</th>\n",
              "      <td>81.86363</td>\n",
              "      <td>109.120685</td>\n",
              "    </tr>\n",
              "    <tr>\n",
              "      <th>std</th>\n",
              "      <td>80.44949</td>\n",
              "      <td>93.718017</td>\n",
              "    </tr>\n",
              "    <tr>\n",
              "      <th>min</th>\n",
              "      <td>3.00000</td>\n",
              "      <td>2.000000</td>\n",
              "    </tr>\n",
              "    <tr>\n",
              "      <th>25%</th>\n",
              "      <td>22.00000</td>\n",
              "      <td>37.000000</td>\n",
              "    </tr>\n",
              "    <tr>\n",
              "      <th>50%</th>\n",
              "      <td>58.00000</td>\n",
              "      <td>86.000000</td>\n",
              "    </tr>\n",
              "    <tr>\n",
              "      <th>75%</th>\n",
              "      <td>114.00000</td>\n",
              "      <td>154.000000</td>\n",
              "    </tr>\n",
              "    <tr>\n",
              "      <th>max</th>\n",
              "      <td>713.00000</td>\n",
              "      <td>948.000000</td>\n",
              "    </tr>\n",
              "  </tbody>\n",
              "</table>\n",
              "</div>"
            ],
            "text/plain": [
              "                 0             1\n",
              "count  31815.00000  31815.000000\n",
              "mean      81.86363    109.120685\n",
              "std       80.44949     93.718017\n",
              "min        3.00000      2.000000\n",
              "25%       22.00000     37.000000\n",
              "50%       58.00000     86.000000\n",
              "75%      114.00000    154.000000\n",
              "max      713.00000    948.000000"
            ]
          },
          "execution_count": 18,
          "metadata": {},
          "output_type": "execute_result"
        }
      ],
      "source": [
        "# Extract output features and convert them to a numpy array\n",
        "Y = df[['PM2.5', 'PM10']].to_numpy()\n",
        "\n",
        "plt.figure(figsize=(8, 3))\n",
        "plt.boxplot(Y)\n",
        "plt.xticks(range(1, 3), ['PM2.5', 'PM10'], rotation=90)\n",
        "plt.show()\n",
        "\n",
        "pd.DataFrame(Y).describe()"
      ]
    },
    {
      "cell_type": "code",
      "execution_count": 19,
      "metadata": {
        "colab": {
          "base_uri": "https://localhost:8080/"
        },
        "id": "zAKGr2d4W_OU",
        "outputId": "72845abb-749a-4836-8a71-8ba26e1d5de8"
      },
      "outputs": [
        {
          "name": "stdout",
          "output_type": "stream",
          "text": [
            "(28633, 28)\n",
            "(28633, 2)\n",
            "(3182, 28)\n",
            "(3182, 2)\n"
          ]
        }
      ],
      "source": [
        "# Split data into train+val and test sets\n",
        "x_train, x_test, y_train, y_test = train_test_split(X, Y, test_size=0.1)\n",
        "\n",
        "print(x_train.shape)\n",
        "print(y_train.shape)\n",
        "print(x_test.shape)\n",
        "print(y_test.shape)"
      ]
    },
    {
      "cell_type": "code",
      "execution_count": 20,
      "metadata": {
        "colab": {
          "base_uri": "https://localhost:8080/",
          "height": 515
        },
        "id": "d4nkvcV3MmC9",
        "outputId": "a76f3dad-adf0-4f0c-8f17-7e68ea1eb38e"
      },
      "outputs": [
        {
          "data": {
            "image/png": "[encoded data removed]",
            "text/plain": [
              "<Figure size 1200x300 with 2 Axes>"
            ]
          },
          "metadata": {},
          "output_type": "display_data"
        },
        {
          "data": {
            "text/html": [
              "<div>\n",
              "<style scoped>\n",
              "    .dataframe tbody tr th:only-of-type {\n",
              "        vertical-align: middle;\n",
              "    }\n",
              "\n",
              "    .dataframe tbody tr th {\n",
              "        vertical-align: top;\n",
              "    }\n",
              "\n",
              "    .dataframe thead th {\n",
              "        text-align: right;\n",
              "    }\n",
              "</style>\n",
              "<table border=\"1\" class=\"dataframe\">\n",
              "  <thead>\n",
              "    <tr style=\"text-align: right;\">\n",
              "      <th></th>\n",
              "      <th>0</th>\n",
              "      <th>1</th>\n",
              "    </tr>\n",
              "  </thead>\n",
              "  <tbody>\n",
              "    <tr>\n",
              "      <th>count</th>\n",
              "      <td>28633.000000</td>\n",
              "      <td>28633.000000</td>\n",
              "    </tr>\n",
              "    <tr>\n",
              "      <th>mean</th>\n",
              "      <td>0.260684</td>\n",
              "      <td>0.198141</td>\n",
              "    </tr>\n",
              "    <tr>\n",
              "      <th>std</th>\n",
              "      <td>0.876474</td>\n",
              "      <td>0.801230</td>\n",
              "    </tr>\n",
              "    <tr>\n",
              "      <th>min</th>\n",
              "      <td>-0.597826</td>\n",
              "      <td>-0.717949</td>\n",
              "    </tr>\n",
              "    <tr>\n",
              "      <th>25%</th>\n",
              "      <td>-0.391304</td>\n",
              "      <td>-0.418803</td>\n",
              "    </tr>\n",
              "    <tr>\n",
              "      <th>50%</th>\n",
              "      <td>0.000000</td>\n",
              "      <td>0.000000</td>\n",
              "    </tr>\n",
              "    <tr>\n",
              "      <th>75%</th>\n",
              "      <td>0.608696</td>\n",
              "      <td>0.581197</td>\n",
              "    </tr>\n",
              "    <tr>\n",
              "      <th>max</th>\n",
              "      <td>7.119565</td>\n",
              "      <td>7.367521</td>\n",
              "    </tr>\n",
              "  </tbody>\n",
              "</table>\n",
              "</div>"
            ],
            "text/plain": [
              "                  0             1\n",
              "count  28633.000000  28633.000000\n",
              "mean       0.260684      0.198141\n",
              "std        0.876474      0.801230\n",
              "min       -0.597826     -0.717949\n",
              "25%       -0.391304     -0.418803\n",
              "50%        0.000000      0.000000\n",
              "75%        0.608696      0.581197\n",
              "max        7.119565      7.367521"
            ]
          },
          "execution_count": 20,
          "metadata": {},
          "output_type": "execute_result"
        }
      ],
      "source": [
        "# Normalize (zero-center) and standardize (scale) output data\n",
        "scalerY = RobustScaler()\n",
        "y_train = scalerY.fit_transform(y_train)\n",
        "y_test = scalerY.transform(y_test)\n",
        "\n",
        "plt.figure(figsize=(12, 3))\n",
        "plt.subplot(1, 2, 1)\n",
        "plt.boxplot(y_train)\n",
        "plt.xticks(range(1, 3), ['PM2.5', 'PM10'], rotation=90)\n",
        "plt.subplot(1, 2, 2)\n",
        "plt.boxplot(y_test)\n",
        "plt.xticks(range(1, 3), ['PM2.5', 'PM10'], rotation=90)\n",
        "plt.show()\n",
        "\n",
        "pd.DataFrame(y_train).describe()"
      ]
    },
    {
      "cell_type": "code",
      "execution_count": 21,
      "metadata": {
        "colab": {
          "base_uri": "https://localhost:8080/",
          "height": 295
        },
        "id": "7dQRDsU4znyI",
        "outputId": "b0c52380-1dac-430a-a015-1838ef4e8c2f"
      },
      "outputs": [
        {
          "data": {
            "image/png": "[encoded data removed]",
            "text/plain": [
              "<Figure size 640x480 with 1 Axes>"
            ]
          },
          "metadata": {},
          "output_type": "display_data"
        }
      ],
      "source": [
        "# Plot y_test\n",
        "# Esta gráfica es para ver sólo si los sets de entrenamiento y test cubren las mismas\n",
        "# áreas (¿tienen la misma distribución?). No se espera que los puntos coincidan ya que\n",
        "# son dos sets distintos.\n",
        "plt.scatter(y_train[:, 0], y_train[:, 1], c='r', s=2, label='y_train')\n",
        "plt.scatter(y_test[:, 0], y_test[:, 1], c='b', s=2, label='y_test')\n",
        "\n",
        "plt.legend()\n",
        "plt.grid(True)\n",
        "plt.xlabel('PM2.5')\n",
        "plt.ylabel('PM10')\n",
        "plt.title('Outputs')\n",
        "plt.show()"
      ]
    },
    {
      "cell_type": "markdown",
      "metadata": {
        "id": "dreChfyNYqsB"
      },
      "source": [
        "# Part 3: Create DNN models and train them"
      ]
    },
    {
      "cell_type": "code",
      "execution_count": 22,
      "metadata": {
        "id": "3vaB5OGd084j"
      },
      "outputs": [],
      "source": [
        "# https://www.youtube.com/watch?v=Z9lQ1hzJFe8\n",
        "# https://www.youtube.com/watch?v=Lx16T9cl5ng\n",
        "# https://github.com/krishnaik06/Keras-Tuner/blob/main/Hidden%20Layers%20And%20Hidden%20Neurons.ipynb\n",
        "# https://www.tensorflow.org/tutorials/keras/keras_tuner\n",
        "# https://keras.io/keras_tuner/\n",
        "# https://keras.io/guides/keras_tuner/getting_started/\n",
        "# https://blog.tensorflow.org/2020/01/hyperparameter-tuning-with-keras-tuner.html?_gl=1*1kyglir*_ga*NDE3NTA3MzMzLjE2Njg1MzgxMDc.*_ga_W0YLR4190T*MTY3NDQ5MjM3OC42LjEuMTY3NDQ5MjY3MC4wLjAuMA..\n",
        "# https://www.tensorflow.org/tensorboard/hyperparameter_tuning_with_hparams\n",
        "# https://medium.com/swlh/hyperparameter-tuning-in-keras-tensorflow-2-with-keras-tuner-randomsearch-hyperband-3e212647778f"
      ]
    },
    {
      "cell_type": "code",
      "execution_count": 23,
      "metadata": {
        "colab": {
          "base_uri": "https://localhost:8080/"
        },
        "id": "yOqB71xRhfpA",
        "outputId": "5680b93b-7731-44ec-aa25-e5c4d705f787"
      },
      "outputs": [],
      "source": [
        "!pip install -q -U keras-tuner"
      ]
    },
    {
      "cell_type": "code",
      "execution_count": 24,
      "metadata": {
        "id": "JO90QIV_HZyX"
      },
      "outputs": [],
      "source": [
        "# tensorflow imports\n",
        "import tensorflow as tf\n",
        "from tensorflow.keras.models import Sequential\n",
        "from tensorflow.keras.layers import InputLayer, Dense\n",
        "from tensorflow.keras.optimizers import Adam\n",
        "\n",
        "import keras_tuner as kt\n",
        "from keras_tuner.tuners import RandomSearch"
      ]
    },
    {
      "cell_type": "markdown",
      "metadata": {
        "id": "Xx9N-n_K4_3k"
      },
      "source": [
        "# Part 3.1: DNN with custom functions"
      ]
    },
    {
      "cell_type": "code",
      "execution_count": 25,
      "metadata": {
        "colab": {
          "base_uri": "https://localhost:8080/"
        },
        "id": "ENX7lCg3Ido4",
        "outputId": "af708052-7c70-4f6a-9e51-e7a5b3c10dd5"
      },
      "outputs": [
        {
          "name": "stdout",
          "output_type": "stream",
          "text": [
            "Model: \"sequential\"\n",
            "_________________________________________________________________\n",
            " Layer (type)                Output Shape              Param #   \n",
            "=================================================================\n",
            " dense (Dense)               (None, 1024)              29696     \n",
            "                                                                 \n",
            " dense_1 (Dense)             (None, 512)               524800    \n",
            "                                                                 \n",
            " dense_2 (Dense)             (None, 256)               131328    \n",
            "                                                                 \n",
            " OUTPUT (Dense)              (None, 2)                 514       \n",
            "                                                                 \n",
            "=================================================================\n",
            "Total params: 686,338\n",
            "Trainable params: 686,338\n",
            "Non-trainable params: 0\n",
            "_________________________________________________________________\n"
          ]
        }
      ],
      "source": [
        "# Create a Deep Network\n",
        "DNN = Sequential()\n",
        "DNN.add(InputLayer(input_shape=x_train.shape[1:], name='INPUT'))\n",
        "\n",
        "DNN.add(Dense(units=1024, activation='relu'))\n",
        "DNN.add(Dense(units=512, activation='relu'))\n",
        "DNN.add(Dense(units=256, activation='relu'))\n",
        "\n",
        "DNN.add(Dense(units=y_train.shape[1], activation='linear', name='OUTPUT'))\n",
        "\n",
        "DNN.summary()"
      ]
    },
    {
      "cell_type": "code",
      "execution_count": 26,
      "metadata": {
        "id": "KWzdmn_gJDBW"
      },
      "outputs": [],
      "source": [
        "def r_square(y, y_hat):\n",
        "  \"\"\" Define R square loss, to use it as metric during training\n",
        "  \"\"\"\n",
        "  residual = tf.reduce_sum(tf.square(tf.subtract(y, y_hat)))\n",
        "  total = tf.reduce_sum(tf.square(tf.subtract(y, tf.reduce_mean(y))))\n",
        "  return tf.subtract(1.0, residual / total)"
      ]
    },
    {
      "cell_type": "code",
      "execution_count": 27,
      "metadata": {
        "id": "fZ_ThBsBet0H"
      },
      "outputs": [],
      "source": [
        "def my_mse(y, y_hat):\n",
        "  \"\"\" Define MSE loss, to use it as loss function\n",
        "  \"\"\"\n",
        "  return tf.reduce_mean(tf.square(y - y_hat))"
      ]
    },
    {
      "cell_type": "code",
      "execution_count": 28,
      "metadata": {
        "id": "Y8TlQWPOVfxw"
      },
      "outputs": [],
      "source": [
        "# Define training parameters\n",
        "# Option 1: Usar un optimizador predefinido, pero con hyperparams no estándar\n",
        "#from tensorflow.keras.optimizers import SGD\n",
        "#sgd = SGD(learning_rate=0.02, momentum=0.6)\n",
        "#DNN.compile(optimizer=sgd, loss='mse')\n",
        "\n",
        "# Option 2: Usar optimizador predefinido, con una pérdida custom, e incluir otras\n",
        "# métricas de monitoreo\n",
        "DNN.compile(optimizer='adam', loss=my_mse, metrics=['mape', r_square])\n",
        "\n",
        "# Try with different optimizers\n",
        "#DNN.compile(optimizer=???, loss='mse')"
      ]
    },
    {
      "cell_type": "code",
      "execution_count": 29,
      "metadata": {
        "colab": {
          "base_uri": "https://localhost:8080/"
        },
        "id": "wGzdI7gJMYRt",
        "outputId": "5ba892f2-7613-4c9c-ea95-cc1dfea527ef"
      },
      "outputs": [
        {
          "name": "stdout",
          "output_type": "stream",
          "text": [
            "Epoch 1/30\n",
            "202/202 [==============================] - 2s 8ms/step - loss: 447.0455 - mape: 26827052.0000 - r_square: -648.0632 - val_loss: 0.4130 - val_mape: 1591230.8750 - val_r_square: 0.4238\n",
            "Epoch 2/30\n",
            "202/202 [==============================] - 1s 6ms/step - loss: 0.6703 - mape: 2284818.7500 - r_square: 0.0149 - val_loss: 0.3733 - val_mape: 1397695.2500 - val_r_square: 0.4859\n",
            "Epoch 3/30\n",
            "202/202 [==============================] - 1s 6ms/step - loss: 3.0271 - mape: 3867530.7500 - r_square: -3.6617 - val_loss: 34.3850 - val_mape: 8457452.0000 - val_r_square: -46.9982\n",
            "Epoch 4/30\n",
            "202/202 [==============================] - 1s 7ms/step - loss: 13.8558 - mape: 5926636.0000 - r_square: -20.0160 - val_loss: 0.2798 - val_mape: 1491088.1250 - val_r_square: 0.6162\n",
            "Epoch 5/30\n",
            "202/202 [==============================] - 1s 6ms/step - loss: 0.2507 - mape: 1439163.8750 - r_square: 0.6390 - val_loss: 0.2577 - val_mape: 1330523.7500 - val_r_square: 0.6448\n",
            "Epoch 6/30\n",
            "202/202 [==============================] - 1s 6ms/step - loss: 0.2511 - mape: 1419161.3750 - r_square: 0.6379 - val_loss: 0.3489 - val_mape: 1698497.7500 - val_r_square: 0.5098\n",
            "Epoch 7/30\n",
            "202/202 [==============================] - 1s 7ms/step - loss: 0.2485 - mape: 1419683.2500 - r_square: 0.6418 - val_loss: 0.2560 - val_mape: 1129596.7500 - val_r_square: 0.6516\n",
            "Epoch 8/30\n",
            "202/202 [==============================] - 1s 7ms/step - loss: 0.2551 - mape: 1322583.5000 - r_square: 0.6324 - val_loss: 0.2916 - val_mape: 1455163.7500 - val_r_square: 0.5941\n",
            "Epoch 9/30\n",
            "202/202 [==============================] - 1s 6ms/step - loss: 0.2833 - mape: 1479289.3750 - r_square: 0.5908 - val_loss: 0.2458 - val_mape: 1309980.7500 - val_r_square: 0.6644\n",
            "Epoch 10/30\n",
            "202/202 [==============================] - 1s 7ms/step - loss: 0.3175 - mape: 1426054.2500 - r_square: 0.5406 - val_loss: 0.3070 - val_mape: 1513843.2500 - val_r_square: 0.5714\n",
            "Epoch 11/30\n",
            "202/202 [==============================] - 2s 8ms/step - loss: 0.3124 - mape: 1462799.5000 - r_square: 0.5457 - val_loss: 3.3453 - val_mape: 3834146.7500 - val_r_square: -3.6780\n",
            "Epoch 12/30\n",
            "202/202 [==============================] - 1s 7ms/step - loss: 1.3779 - mape: 3024075.7500 - r_square: -0.9837 - val_loss: 0.3659 - val_mape: 1709587.5000 - val_r_square: 0.4969\n",
            "Epoch 13/30\n",
            "202/202 [==============================] - 1s 6ms/step - loss: 0.3182 - mape: 1552069.6250 - r_square: 0.5386 - val_loss: 0.2902 - val_mape: 1633936.1250 - val_r_square: 0.6004\n",
            "Epoch 14/30\n",
            "202/202 [==============================] - 2s 8ms/step - loss: 0.2754 - mape: 1406686.2500 - r_square: 0.6034 - val_loss: 0.5599 - val_mape: 1989467.8750 - val_r_square: 0.2107\n",
            "Epoch 15/30\n",
            "202/202 [==============================] - 2s 7ms/step - loss: 0.5462 - mape: 1930344.7500 - r_square: 0.1909 - val_loss: 0.4970 - val_mape: 1922262.7500 - val_r_square: 0.3097\n",
            "Epoch 16/30\n",
            "202/202 [==============================] - 2s 8ms/step - loss: 1.9525 - mape: 2894416.2500 - r_square: -1.9736 - val_loss: 0.2527 - val_mape: 1110878.5000 - val_r_square: 0.6529\n",
            "Epoch 17/30\n",
            "202/202 [==============================] - 2s 8ms/step - loss: 0.2549 - mape: 1443781.0000 - r_square: 0.6285 - val_loss: 0.9460 - val_mape: 1534013.8750 - val_r_square: -0.3051\n",
            "Epoch 18/30\n",
            "202/202 [==============================] - 1s 7ms/step - loss: 0.4087 - mape: 1544075.1250 - r_square: 0.4055 - val_loss: 0.3155 - val_mape: 1071020.1250 - val_r_square: 0.5737\n",
            "Epoch 19/30\n",
            "202/202 [==============================] - 1s 7ms/step - loss: 0.2633 - mape: 1441016.0000 - r_square: 0.6177 - val_loss: 0.2697 - val_mape: 1255306.2500 - val_r_square: 0.6247\n",
            "Epoch 20/30\n",
            "202/202 [==============================] - 1s 7ms/step - loss: 0.2900 - mape: 1409151.5000 - r_square: 0.5838 - val_loss: 0.3783 - val_mape: 1276946.1250 - val_r_square: 0.4821\n",
            "Epoch 21/30\n",
            "202/202 [==============================] - 2s 7ms/step - loss: 0.2927 - mape: 1439173.7500 - r_square: 0.5792 - val_loss: 0.4136 - val_mape: 1285795.0000 - val_r_square: 0.4240\n",
            "Epoch 22/30\n",
            "202/202 [==============================] - 2s 7ms/step - loss: 0.3185 - mape: 1524358.6250 - r_square: 0.5364 - val_loss: 0.4182 - val_mape: 1794289.5000 - val_r_square: 0.4176\n",
            "Epoch 23/30\n",
            "202/202 [==============================] - 2s 8ms/step - loss: 0.6855 - mape: 1861865.2500 - r_square: -0.0152 - val_loss: 0.2551 - val_mape: 1267770.5000 - val_r_square: 0.6468\n",
            "Epoch 24/30\n",
            "202/202 [==============================] - 1s 7ms/step - loss: 0.4358 - mape: 1591489.5000 - r_square: 0.3704 - val_loss: 0.2742 - val_mape: 1267193.8750 - val_r_square: 0.6196\n",
            "Epoch 25/30\n",
            "202/202 [==============================] - 1s 7ms/step - loss: 0.2532 - mape: 1404302.2500 - r_square: 0.6340 - val_loss: 0.2398 - val_mape: 1261962.6250 - val_r_square: 0.6716\n",
            "Epoch 26/30\n",
            "202/202 [==============================] - 2s 8ms/step - loss: 0.2405 - mape: 1263113.1250 - r_square: 0.6515 - val_loss: 0.2958 - val_mape: 912417.4375 - val_r_square: 0.5949\n",
            "Epoch 27/30\n",
            "202/202 [==============================] - 2s 8ms/step - loss: 0.2468 - mape: 1347269.7500 - r_square: 0.6405 - val_loss: 0.2446 - val_mape: 1261363.6250 - val_r_square: 0.6650\n",
            "Epoch 28/30\n",
            "202/202 [==============================] - 2s 8ms/step - loss: 0.2655 - mape: 1383490.0000 - r_square: 0.6124 - val_loss: 0.3108 - val_mape: 1436143.8750 - val_r_square: 0.5668\n",
            "Epoch 29/30\n",
            "202/202 [==============================] - 2s 8ms/step - loss: 0.2913 - mape: 1367363.5000 - r_square: 0.5779 - val_loss: 0.2494 - val_mape: 1315795.3750 - val_r_square: 0.6580\n",
            "Epoch 30/30\n",
            "202/202 [==============================] - 2s 8ms/step - loss: 0.2507 - mape: 1337899.7500 - r_square: 0.6368 - val_loss: 0.3820 - val_mape: 914770.1250 - val_r_square: 0.4765\n"
          ]
        }
      ],
      "source": [
        "# Train model\n",
        "H = DNN.fit(x=x_train, y=y_train, batch_size=128, epochs=30, validation_split=0.1)"
      ]
    },
    {
      "cell_type": "code",
      "execution_count": 30,
      "metadata": {
        "colab": {
          "base_uri": "https://localhost:8080/",
          "height": 290
        },
        "id": "sun9_RyLYzMM",
        "outputId": "5f529fe0-41f6-4e97-8165-58e59850a9fc"
      },
      "outputs": [
        {
          "data": {
            "image/png": "[encoded data removed]",
            "text/plain": [
              "<Figure size 2000x400 with 3 Axes>"
            ]
          },
          "metadata": {},
          "output_type": "display_data"
        }
      ],
      "source": [
        "# Plot loss\n",
        "plt.figure(figsize=(20, 4))\n",
        "plt.subplot(1, 3, 1)\n",
        "plt.plot(DNN.history.history['loss'], label='Training', linewidth=2)\n",
        "plt.plot(DNN.history.history['val_loss'], label='Validation', linewidth=2)\n",
        "plt.legend()\n",
        "plt.xlabel('Epoch')\n",
        "plt.ylabel('Loss (mse)')\n",
        "plt.grid()\n",
        "plt.subplot(1, 3, 2)\n",
        "plt.plot(DNN.history.history['mape'], label='Training', linewidth=2)\n",
        "plt.plot(DNN.history.history['val_mape'], label='Validation', linewidth=2)\n",
        "plt.legend()\n",
        "plt.xlabel('Epoch')\n",
        "plt.ylabel('MAPE')\n",
        "plt.grid()\n",
        "plt.subplot(1, 3, 3)\n",
        "plt.plot(DNN.history.history['r_square'], label='Training', linewidth=2)\n",
        "plt.plot(DNN.history.history['val_r_square'], label='Validation', linewidth=2)\n",
        "plt.legend()\n",
        "plt.xlabel('Epoch')\n",
        "plt.ylabel('r square')\n",
        "plt.grid()\n",
        "plt.show()"
      ]
    },
    {
      "cell_type": "code",
      "execution_count": 31,
      "metadata": {
        "colab": {
          "base_uri": "https://localhost:8080/"
        },
        "id": "jqWaiy_fb0-x",
        "outputId": "289c59e2-5c8c-4bb4-f491-75099671b27d"
      },
      "outputs": [
        {
          "name": "stdout",
          "output_type": "stream",
          "text": [
            "Test loss, MAPE, and r2: [0.3580520749092102, 897404.375, 0.442425012588501]\n"
          ]
        }
      ],
      "source": [
        "# Compute test loss\n",
        "loss_test = DNN.evaluate(x=x_test, y=y_test, verbose=False)\n",
        "print(\"Test loss, MAPE, and r2:\", loss_test)"
      ]
    },
    {
      "cell_type": "code",
      "execution_count": 32,
      "metadata": {
        "colab": {
          "base_uri": "https://localhost:8080/"
        },
        "id": "lQxF7hMCb8Cp",
        "outputId": "8cec4ae2-d837-4951-a221-79c5d2b0e928"
      },
      "outputs": [
        {
          "name": "stdout",
          "output_type": "stream",
          "text": [
            "100/100 [==============================] - 0s 2ms/step\n",
            "(3182, 2)\n"
          ]
        }
      ],
      "source": [
        "# Predict on test set\n",
        "y_test_hat = DNN.predict(x=x_test)\n",
        "print(y_test_hat.shape)"
      ]
    },
    {
      "cell_type": "code",
      "execution_count": 33,
      "metadata": {
        "colab": {
          "base_uri": "https://localhost:8080/",
          "height": 295
        },
        "id": "tfAf4cIqcGyQ",
        "outputId": "e76d44e8-27f2-473d-93e9-72b002ef86d8"
      },
      "outputs": [
        {
          "data": {
            "image/png": "[encoded data removed]",
            "text/plain": [
              "<Figure size 640x480 with 1 Axes>"
            ]
          },
          "metadata": {},
          "output_type": "display_data"
        }
      ],
      "source": [
        "# Plot y_test_hat\n",
        "indx = np.random.permutation(len(y_test))[:500]\n",
        "plt.scatter(y_test[indx, 0], y_test[indx, 1], c='b', label='y')\n",
        "plt.scatter(y_test_hat[indx, 0], y_test_hat[indx, 1], c='r', marker='+', label='y_h')\n",
        "\n",
        "plt.legend()\n",
        "plt.grid(True)\n",
        "plt.xlabel('PM2.5')\n",
        "plt.ylabel('NO2')\n",
        "plt.title('Test set and its predictions')\n",
        "plt.show()"
      ]
    },
    {
      "cell_type": "markdown",
      "metadata": {
        "id": "Flg_pGZD5_0F"
      },
      "source": [
        "# 3.2 Auto tuning of hyperparams: number of units and optimizer"
      ]
    },
    {
      "cell_type": "code",
      "execution_count": 34,
      "metadata": {
        "id": "KWp4wGxlhsI6"
      },
      "outputs": [],
      "source": [
        "def model_builder(hp):\n",
        "  ''' Define a auxiliar function to create DNN models with varying\n",
        "      hyperparameters.\n",
        "  '''\n",
        "  model = Sequential()\n",
        "  model.add(InputLayer(input_shape=x_train.shape[1:], name='INPUT'))\n",
        "\n",
        "  # Choose an optimal number of units for the unique hidden layer between 64-1024\n",
        "  hp_units = hp.Int('units', min_value=64, max_value=1024, step=64)\n",
        "  model.add(Dense(units=hp_units, activation='relu'))\n",
        "  # Add output layer\n",
        "  model.add(Dense(units=y_train.shape[1], name='OUTPUT'))\n",
        "\n",
        "  # Choose best optimizer\n",
        "  model.compile(optimizer=hp.Choice('optimizer', values=['sgd', 'adam', 'adagrad', 'adadelta']), loss='mse', metrics=['mape'])\n",
        "  \n",
        "  return model"
      ]
    },
    {
      "cell_type": "code",
      "execution_count": 35,
      "metadata": {
        "colab": {
          "base_uri": "https://localhost:8080/"
        },
        "id": "4wn2eOcXioPQ",
        "outputId": "6e77114a-9215-49a9-d58e-632890a421e7"
      },
      "outputs": [
        {
          "name": "stdout",
          "output_type": "stream",
          "text": [
            "Search space summary\n",
            "Default search space size: 2\n",
            "units (Int)\n",
            "{'default': None, 'conditions': [], 'min_value': 64, 'max_value': 1024, 'step': 64, 'sampling': 'linear'}\n",
            "optimizer (Choice)\n",
            "{'default': 'sgd', 'conditions': [], 'values': ['sgd', 'adam', 'adagrad', 'adadelta'], 'ordered': False}\n"
          ]
        }
      ],
      "source": [
        "# Create a tuner and show the search space\n",
        "tuner = RandomSearch(model_builder,\n",
        "                     objective='val_loss',\n",
        "                     max_trials=32)\n",
        "\n",
        "tuner.search_space_summary()"
      ]
    },
    {
      "cell_type": "code",
      "execution_count": 36,
      "metadata": {
        "colab": {
          "base_uri": "https://localhost:8080/"
        },
        "id": "wcjclyCRrKXN",
        "outputId": "09e66970-4c15-4bae-ba6c-51720f902f4e"
      },
      "outputs": [
        {
          "name": "stdout",
          "output_type": "stream",
          "text": [
            "Trial 32 Complete [00h 00m 39s]\n",
            "val_loss: 2.2898507118225098\n",
            "\n",
            "Best val_loss So Far: 0.2763548791408539\n",
            "Total elapsed time: 00h 17m 22s\n",
            "INFO:tensorflow:Oracle triggered exit\n"
          ]
        }
      ],
      "source": [
        "# Make an initial quick exploration of the hyperparam space\n",
        "tuner.search(x_train, y_train, epochs=10, validation_split=0.1)"
      ]
    },
    {
      "cell_type": "code",
      "execution_count": 37,
      "metadata": {
        "colab": {
          "base_uri": "https://localhost:8080/"
        },
        "id": "PhQeUw8Lmqbx",
        "outputId": "af55f172-cb03-4814-e826-44ea80400fe3"
      },
      "outputs": [
        {
          "name": "stdout",
          "output_type": "stream",
          "text": [
            "Model: \"sequential\"\n",
            "_________________________________________________________________\n",
            " Layer (type)                Output Shape              Param #   \n",
            "=================================================================\n",
            " dense (Dense)               (None, 1024)              29696     \n",
            "                                                                 \n",
            " OUTPUT (Dense)              (None, 2)                 2050      \n",
            "                                                                 \n",
            "=================================================================\n",
            "Total params: 31,746\n",
            "Trainable params: 31,746\n",
            "Non-trainable params: 0\n",
            "_________________________________________________________________\n"
          ]
        }
      ],
      "source": [
        "# Get the top model\n",
        "best_models = tuner.get_best_models()\n",
        "best_model = best_models[0]\n",
        "best_model.summary()"
      ]
    },
    {
      "cell_type": "code",
      "execution_count": 38,
      "metadata": {
        "colab": {
          "base_uri": "https://localhost:8080/"
        },
        "id": "pNR0VS3zmqgP",
        "outputId": "d971e113-fb21-4a49-8775-d0e7c0192a6e"
      },
      "outputs": [
        {
          "name": "stdout",
          "output_type": "stream",
          "text": [
            "Results summary\n",
            "Results in .\\untitled_project\n",
            "Showing 10 best trials\n",
            "<keras_tuner.engine.objective.Objective object at 0x000001E2AC3AA130>\n",
            "Trial summary\n",
            "Hyperparameters:\n",
            "units: 1024\n",
            "optimizer: adagrad\n",
            "Score: 0.2763548791408539\n",
            "Trial summary\n",
            "Hyperparameters:\n",
            "units: 768\n",
            "optimizer: adagrad\n",
            "Score: 0.2770603895187378\n",
            "Trial summary\n",
            "Hyperparameters:\n",
            "units: 704\n",
            "optimizer: adam\n",
            "Score: 0.27882277965545654\n",
            "Trial summary\n",
            "Hyperparameters:\n",
            "units: 960\n",
            "optimizer: adagrad\n",
            "Score: 0.28226354718208313\n",
            "Trial summary\n",
            "Hyperparameters:\n",
            "units: 832\n",
            "optimizer: adagrad\n",
            "Score: 0.29469436407089233\n",
            "Trial summary\n",
            "Hyperparameters:\n",
            "units: 896\n",
            "optimizer: adagrad\n",
            "Score: 0.30268627405166626\n",
            "Trial summary\n",
            "Hyperparameters:\n",
            "units: 704\n",
            "optimizer: adagrad\n",
            "Score: 0.3316324055194855\n",
            "Trial summary\n",
            "Hyperparameters:\n",
            "units: 640\n",
            "optimizer: adam\n",
            "Score: 0.3477030396461487\n",
            "Trial summary\n",
            "Hyperparameters:\n",
            "units: 896\n",
            "optimizer: adam\n",
            "Score: 0.36334317922592163\n",
            "Trial summary\n",
            "Hyperparameters:\n",
            "units: 576\n",
            "optimizer: adagrad\n",
            "Score: 0.40574201941490173\n"
          ]
        }
      ],
      "source": [
        "# See top best results\n",
        "tuner.results_summary()"
      ]
    },
    {
      "cell_type": "code",
      "execution_count": 39,
      "metadata": {
        "colab": {
          "base_uri": "https://localhost:8080/"
        },
        "id": "Lz90Elusm48w",
        "outputId": "50f977fb-b843-4066-bf0b-51653d72370a"
      },
      "outputs": [
        {
          "data": {
            "text/plain": [
              "{'units': 1024, 'optimizer': 'adagrad'}"
            ]
          },
          "execution_count": 39,
          "metadata": {},
          "output_type": "execute_result"
        }
      ],
      "source": [
        "# Retrieve the best combination of hyperparams\n",
        "best_hps = tuner.get_best_hyperparameters()[0]\n",
        "best_hps.values"
      ]
    },
    {
      "cell_type": "code",
      "execution_count": 40,
      "metadata": {
        "colab": {
          "base_uri": "https://localhost:8080/"
        },
        "id": "BjtVy3V_m4_P",
        "outputId": "a13b9124-c097-40db-dfc7-936b2bc82db3"
      },
      "outputs": [
        {
          "name": "stdout",
          "output_type": "stream",
          "text": [
            "Model: \"sequential_1\"\n",
            "_________________________________________________________________\n",
            " Layer (type)                Output Shape              Param #   \n",
            "=================================================================\n",
            " dense_1 (Dense)             (None, 1024)              29696     \n",
            "                                                                 \n",
            " OUTPUT (Dense)              (None, 2)                 2050      \n",
            "                                                                 \n",
            "=================================================================\n",
            "Total params: 31,746\n",
            "Trainable params: 31,746\n",
            "Non-trainable params: 0\n",
            "_________________________________________________________________\n"
          ]
        }
      ],
      "source": [
        "# Create a new model using the best hyperparams\n",
        "DNN = model_builder(best_hps)\n",
        "DNN.summary()"
      ]
    },
    {
      "cell_type": "code",
      "execution_count": 41,
      "metadata": {
        "colab": {
          "base_uri": "https://localhost:8080/"
        },
        "id": "fIEdW5Rfm5CH",
        "outputId": "e90e16ef-f78e-4fe8-856c-1b1f8ae3343b"
      },
      "outputs": [
        {
          "name": "stdout",
          "output_type": "stream",
          "text": [
            "Epoch 1/100\n",
            "403/403 [==============================] - 3s 5ms/step - loss: 13.5610 - mape: 5410594.0000 - val_loss: 0.6144 - val_mape: 2215672.0000\n",
            "Epoch 2/100\n",
            "403/403 [==============================] - 2s 5ms/step - loss: 0.5608 - mape: 2476195.5000 - val_loss: 0.5493 - val_mape: 1435609.3750\n",
            "Epoch 3/100\n",
            "403/403 [==============================] - 2s 5ms/step - loss: 0.4273 - mape: 2057375.5000 - val_loss: 0.4118 - val_mape: 1547701.5000\n",
            "Epoch 4/100\n",
            "403/403 [==============================] - 2s 5ms/step - loss: 0.3589 - mape: 1917438.3750 - val_loss: 0.3997 - val_mape: 1829018.8750\n",
            "Epoch 5/100\n",
            "403/403 [==============================] - 2s 5ms/step - loss: 0.3342 - mape: 1765739.2500 - val_loss: 0.3244 - val_mape: 1344558.8750\n",
            "Epoch 6/100\n",
            "403/403 [==============================] - 2s 5ms/step - loss: 0.3163 - mape: 1679705.1250 - val_loss: 0.3572 - val_mape: 1626185.5000\n",
            "Epoch 7/100\n",
            "403/403 [==============================] - 2s 5ms/step - loss: 0.3021 - mape: 1650282.8750 - val_loss: 0.3114 - val_mape: 1377236.8750\n",
            "Epoch 8/100\n",
            "403/403 [==============================] - 2s 5ms/step - loss: 0.2909 - mape: 1560083.3750 - val_loss: 0.2907 - val_mape: 1168257.6250\n",
            "Epoch 9/100\n",
            "403/403 [==============================] - 2s 4ms/step - loss: 0.2831 - mape: 1570856.0000 - val_loss: 0.2819 - val_mape: 1184068.7500\n",
            "Epoch 10/100\n",
            "403/403 [==============================] - 2s 4ms/step - loss: 0.2737 - mape: 1525837.6250 - val_loss: 0.3184 - val_mape: 1110862.1250\n",
            "Epoch 11/100\n",
            "403/403 [==============================] - 2s 5ms/step - loss: 0.2723 - mape: 1478772.0000 - val_loss: 0.2736 - val_mape: 1127826.7500\n",
            "Epoch 12/100\n",
            "403/403 [==============================] - 2s 4ms/step - loss: 0.2658 - mape: 1489022.8750 - val_loss: 0.3962 - val_mape: 1602311.3750\n",
            "Epoch 13/100\n",
            "403/403 [==============================] - 2s 5ms/step - loss: 0.2616 - mape: 1490631.8750 - val_loss: 0.2792 - val_mape: 1075714.2500\n",
            "Epoch 14/100\n",
            "403/403 [==============================] - 2s 5ms/step - loss: 0.2633 - mape: 1457987.7500 - val_loss: 0.2642 - val_mape: 1253008.5000\n",
            "Epoch 15/100\n",
            "403/403 [==============================] - 2s 5ms/step - loss: 0.2569 - mape: 1472801.3750 - val_loss: 0.3174 - val_mape: 1027729.6250\n",
            "Epoch 16/100\n",
            "403/403 [==============================] - 2s 4ms/step - loss: 0.2525 - mape: 1426517.7500 - val_loss: 0.2627 - val_mape: 1206964.8750\n",
            "Epoch 17/100\n",
            "403/403 [==============================] - 2s 4ms/step - loss: 0.2546 - mape: 1496289.3750 - val_loss: 0.2667 - val_mape: 1097699.2500\n",
            "Epoch 18/100\n",
            "403/403 [==============================] - 2s 4ms/step - loss: 0.2551 - mape: 1445275.8750 - val_loss: 0.2571 - val_mape: 1143948.6250\n",
            "Epoch 19/100\n",
            "403/403 [==============================] - 2s 5ms/step - loss: 0.2442 - mape: 1435640.2500 - val_loss: 0.2778 - val_mape: 1277701.7500\n",
            "Epoch 20/100\n",
            "403/403 [==============================] - 2s 5ms/step - loss: 0.2459 - mape: 1460559.6250 - val_loss: 0.2588 - val_mape: 1104680.6250\n",
            "Epoch 21/100\n",
            "403/403 [==============================] - 2s 5ms/step - loss: 0.2411 - mape: 1454501.2500 - val_loss: 0.2561 - val_mape: 1119765.7500\n",
            "Epoch 22/100\n",
            "403/403 [==============================] - 2s 4ms/step - loss: 0.2378 - mape: 1442728.5000 - val_loss: 0.2535 - val_mape: 1179562.5000\n",
            "Epoch 23/100\n",
            "403/403 [==============================] - 2s 4ms/step - loss: 0.2427 - mape: 1398630.2500 - val_loss: 0.2601 - val_mape: 1242236.5000\n",
            "Epoch 24/100\n",
            "403/403 [==============================] - 2s 4ms/step - loss: 0.2402 - mape: 1437953.5000 - val_loss: 0.2578 - val_mape: 1090472.6250\n",
            "Epoch 25/100\n",
            "403/403 [==============================] - 2s 5ms/step - loss: 0.2383 - mape: 1399980.1250 - val_loss: 0.2459 - val_mape: 1113083.8750\n",
            "Epoch 26/100\n",
            "403/403 [==============================] - 2s 4ms/step - loss: 0.2386 - mape: 1406103.0000 - val_loss: 0.3604 - val_mape: 1215240.7500\n",
            "Epoch 27/100\n",
            "403/403 [==============================] - 2s 5ms/step - loss: 0.2350 - mape: 1405732.8750 - val_loss: 0.2472 - val_mape: 1164428.1250\n",
            "Epoch 28/100\n",
            "403/403 [==============================] - 2s 5ms/step - loss: 0.2342 - mape: 1401884.3750 - val_loss: 0.2469 - val_mape: 1189613.0000\n",
            "Epoch 29/100\n",
            "403/403 [==============================] - 2s 5ms/step - loss: 0.2316 - mape: 1386855.5000 - val_loss: 0.2487 - val_mape: 1235985.3750\n",
            "Epoch 30/100\n",
            "403/403 [==============================] - 2s 4ms/step - loss: 0.2338 - mape: 1439964.8750 - val_loss: 0.2497 - val_mape: 1269940.7500\n",
            "Epoch 31/100\n",
            "403/403 [==============================] - 2s 4ms/step - loss: 0.2324 - mape: 1369576.6250 - val_loss: 0.2421 - val_mape: 1119582.6250\n",
            "Epoch 32/100\n",
            "403/403 [==============================] - 2s 5ms/step - loss: 0.2305 - mape: 1395211.5000 - val_loss: 0.3217 - val_mape: 1035786.0000\n",
            "Epoch 33/100\n",
            "403/403 [==============================] - 2s 4ms/step - loss: 0.2303 - mape: 1404429.8750 - val_loss: 0.2459 - val_mape: 1250419.5000\n",
            "Epoch 34/100\n",
            "403/403 [==============================] - 2s 4ms/step - loss: 0.2311 - mape: 1359609.1250 - val_loss: 0.2910 - val_mape: 1038974.3750\n",
            "Epoch 35/100\n",
            "403/403 [==============================] - 2s 4ms/step - loss: 0.2278 - mape: 1376177.7500 - val_loss: 0.2465 - val_mape: 1022356.1250\n",
            "Epoch 36/100\n",
            "403/403 [==============================] - 2s 5ms/step - loss: 0.2285 - mape: 1389438.8750 - val_loss: 0.2404 - val_mape: 1228299.5000\n",
            "Epoch 37/100\n",
            "403/403 [==============================] - 2s 5ms/step - loss: 0.2277 - mape: 1418640.5000 - val_loss: 0.2524 - val_mape: 1295814.5000\n",
            "Epoch 38/100\n",
            "403/403 [==============================] - 2s 4ms/step - loss: 0.2262 - mape: 1365241.5000 - val_loss: 0.2399 - val_mape: 1104578.8750\n",
            "Epoch 39/100\n",
            "403/403 [==============================] - 2s 5ms/step - loss: 0.2239 - mape: 1334538.1250 - val_loss: 0.2759 - val_mape: 1124433.3750\n",
            "Epoch 40/100\n",
            "403/403 [==============================] - 2s 5ms/step - loss: 0.2246 - mape: 1405242.1250 - val_loss: 0.2426 - val_mape: 1187033.8750\n",
            "Epoch 41/100\n",
            "403/403 [==============================] - 2s 4ms/step - loss: 0.2256 - mape: 1352420.7500 - val_loss: 0.2359 - val_mape: 1184384.2500\n",
            "Epoch 42/100\n",
            "403/403 [==============================] - 2s 5ms/step - loss: 0.2229 - mape: 1359971.0000 - val_loss: 0.2455 - val_mape: 1117281.5000\n",
            "Epoch 43/100\n",
            "403/403 [==============================] - 2s 5ms/step - loss: 0.2246 - mape: 1373242.1250 - val_loss: 0.2358 - val_mape: 1187177.0000\n",
            "Epoch 44/100\n",
            "403/403 [==============================] - 2s 4ms/step - loss: 0.2238 - mape: 1342007.0000 - val_loss: 0.2838 - val_mape: 1438762.8750\n",
            "Epoch 45/100\n",
            "403/403 [==============================] - 2s 6ms/step - loss: 0.2242 - mape: 1315591.3750 - val_loss: 0.2409 - val_mape: 1168875.8750\n",
            "Epoch 46/100\n",
            "403/403 [==============================] - 2s 6ms/step - loss: 0.2221 - mape: 1369301.6250 - val_loss: 0.2355 - val_mape: 1197976.0000\n",
            "Epoch 47/100\n",
            "403/403 [==============================] - 2s 5ms/step - loss: 0.2253 - mape: 1333672.6250 - val_loss: 0.2424 - val_mape: 1225395.2500\n",
            "Epoch 48/100\n",
            "403/403 [==============================] - 2s 5ms/step - loss: 0.2227 - mape: 1339493.3750 - val_loss: 0.2381 - val_mape: 1166957.3750\n",
            "Epoch 49/100\n",
            "403/403 [==============================] - 2s 5ms/step - loss: 0.2232 - mape: 1328497.8750 - val_loss: 0.2596 - val_mape: 1160607.1250\n",
            "Epoch 50/100\n",
            "403/403 [==============================] - 2s 5ms/step - loss: 0.2198 - mape: 1315420.3750 - val_loss: 0.2479 - val_mape: 1107261.6250\n",
            "Epoch 51/100\n",
            "403/403 [==============================] - 2s 5ms/step - loss: 0.2215 - mape: 1303167.0000 - val_loss: 0.2498 - val_mape: 1048263.2500\n",
            "Epoch 52/100\n",
            "403/403 [==============================] - 2s 5ms/step - loss: 0.2195 - mape: 1352697.2500 - val_loss: 0.2435 - val_mape: 1047862.0625\n",
            "Epoch 53/100\n",
            "403/403 [==============================] - 2s 5ms/step - loss: 0.2215 - mape: 1357299.5000 - val_loss: 0.2785 - val_mape: 1446447.2500\n",
            "Epoch 54/100\n",
            "403/403 [==============================] - 2s 5ms/step - loss: 0.2178 - mape: 1329402.3750 - val_loss: 0.2470 - val_mape: 1050860.0000\n",
            "Epoch 55/100\n",
            "403/403 [==============================] - 2s 5ms/step - loss: 0.2173 - mape: 1315649.2500 - val_loss: 0.2454 - val_mape: 1151011.8750\n",
            "Epoch 56/100\n",
            "403/403 [==============================] - 2s 5ms/step - loss: 0.2201 - mape: 1332237.8750 - val_loss: 0.2354 - val_mape: 1185691.8750\n",
            "Epoch 57/100\n",
            "403/403 [==============================] - 2s 5ms/step - loss: 0.2166 - mape: 1335309.3750 - val_loss: 0.2358 - val_mape: 1196602.6250\n",
            "Epoch 58/100\n",
            "403/403 [==============================] - 2s 5ms/step - loss: 0.2186 - mape: 1357865.8750 - val_loss: 0.2673 - val_mape: 1029330.8750\n",
            "Epoch 59/100\n",
            "403/403 [==============================] - 2s 5ms/step - loss: 0.2188 - mape: 1343152.1250 - val_loss: 0.2340 - val_mape: 1145814.5000\n",
            "Epoch 60/100\n",
            "403/403 [==============================] - 2s 5ms/step - loss: 0.2166 - mape: 1355584.5000 - val_loss: 0.2323 - val_mape: 1159666.3750\n",
            "Epoch 61/100\n",
            "403/403 [==============================] - 2s 4ms/step - loss: 0.2166 - mape: 1352728.0000 - val_loss: 0.2486 - val_mape: 1269317.7500\n",
            "Epoch 62/100\n",
            "403/403 [==============================] - 2s 5ms/step - loss: 0.2152 - mape: 1299516.5000 - val_loss: 0.2338 - val_mape: 1215987.2500\n",
            "Epoch 63/100\n",
            "403/403 [==============================] - 2s 5ms/step - loss: 0.2155 - mape: 1346759.0000 - val_loss: 0.2301 - val_mape: 1104138.6250\n",
            "Epoch 64/100\n",
            "403/403 [==============================] - 2s 5ms/step - loss: 0.2170 - mape: 1339638.2500 - val_loss: 0.2399 - val_mape: 1077516.3750\n",
            "Epoch 65/100\n",
            "403/403 [==============================] - 2s 5ms/step - loss: 0.2157 - mape: 1330284.3750 - val_loss: 0.2350 - val_mape: 1201750.8750\n",
            "Epoch 66/100\n",
            "403/403 [==============================] - 2s 5ms/step - loss: 0.2181 - mape: 1296188.8750 - val_loss: 0.2391 - val_mape: 1144175.3750\n",
            "Epoch 67/100\n",
            "403/403 [==============================] - 2s 5ms/step - loss: 0.2155 - mape: 1350679.7500 - val_loss: 0.2371 - val_mape: 1166066.3750\n",
            "Epoch 68/100\n",
            "403/403 [==============================] - 2s 5ms/step - loss: 0.2149 - mape: 1302274.7500 - val_loss: 0.2302 - val_mape: 1138994.3750\n",
            "Epoch 69/100\n",
            "403/403 [==============================] - 2s 5ms/step - loss: 0.2150 - mape: 1314237.6250 - val_loss: 0.2403 - val_mape: 1064783.0000\n",
            "Epoch 70/100\n",
            "403/403 [==============================] - 2s 5ms/step - loss: 0.2136 - mape: 1348263.0000 - val_loss: 0.2423 - val_mape: 1088679.0000\n",
            "Epoch 71/100\n",
            "403/403 [==============================] - 2s 5ms/step - loss: 0.2158 - mape: 1303608.5000 - val_loss: 0.2340 - val_mape: 1165958.8750\n",
            "Epoch 72/100\n",
            "403/403 [==============================] - 2s 4ms/step - loss: 0.2126 - mape: 1330246.8750 - val_loss: 0.2376 - val_mape: 1118660.5000\n",
            "Epoch 73/100\n",
            "403/403 [==============================] - 2s 5ms/step - loss: 0.2158 - mape: 1337187.0000 - val_loss: 0.2312 - val_mape: 1173222.0000\n",
            "Epoch 74/100\n",
            "403/403 [==============================] - 2s 5ms/step - loss: 0.2141 - mape: 1284141.3750 - val_loss: 0.2984 - val_mape: 1473467.6250\n",
            "Epoch 75/100\n",
            "403/403 [==============================] - 2s 5ms/step - loss: 0.2148 - mape: 1297047.1250 - val_loss: 0.2407 - val_mape: 1163939.5000\n",
            "Epoch 76/100\n",
            "403/403 [==============================] - 2s 5ms/step - loss: 0.2150 - mape: 1343222.5000 - val_loss: 0.3707 - val_mape: 1585687.2500\n",
            "Epoch 77/100\n",
            "403/403 [==============================] - 2s 5ms/step - loss: 0.2132 - mape: 1270802.5000 - val_loss: 0.2312 - val_mape: 1143692.0000\n",
            "Epoch 78/100\n",
            "403/403 [==============================] - 2s 5ms/step - loss: 0.2126 - mape: 1326254.3750 - val_loss: 0.2280 - val_mape: 1143938.3750\n",
            "Epoch 79/100\n",
            "403/403 [==============================] - 2s 5ms/step - loss: 0.2132 - mape: 1262249.0000 - val_loss: 0.2405 - val_mape: 1246227.3750\n",
            "Epoch 80/100\n",
            "403/403 [==============================] - 2s 4ms/step - loss: 0.2124 - mape: 1330711.7500 - val_loss: 0.2314 - val_mape: 1068316.8750\n",
            "Epoch 81/100\n",
            "403/403 [==============================] - 2s 5ms/step - loss: 0.2106 - mape: 1260295.1250 - val_loss: 0.2332 - val_mape: 1067326.6250\n",
            "Epoch 82/100\n",
            "403/403 [==============================] - 2s 5ms/step - loss: 0.2125 - mape: 1303210.8750 - val_loss: 0.2428 - val_mape: 1267617.7500\n",
            "Epoch 83/100\n",
            "403/403 [==============================] - 2s 5ms/step - loss: 0.2119 - mape: 1308181.5000 - val_loss: 0.2292 - val_mape: 1116007.8750\n",
            "Epoch 84/100\n",
            "403/403 [==============================] - 2s 5ms/step - loss: 0.2121 - mape: 1357468.0000 - val_loss: 0.2293 - val_mape: 1196263.6250\n",
            "Epoch 85/100\n",
            "403/403 [==============================] - 2s 5ms/step - loss: 0.2097 - mape: 1289049.1250 - val_loss: 0.2318 - val_mape: 1035697.6875\n",
            "Epoch 86/100\n",
            "403/403 [==============================] - 2s 5ms/step - loss: 0.2116 - mape: 1297151.3750 - val_loss: 0.2310 - val_mape: 1105396.2500\n",
            "Epoch 87/100\n",
            "403/403 [==============================] - 2s 4ms/step - loss: 0.2106 - mape: 1294326.3750 - val_loss: 0.2339 - val_mape: 1197176.0000\n",
            "Epoch 88/100\n",
            "403/403 [==============================] - 2s 5ms/step - loss: 0.2121 - mape: 1284326.3750 - val_loss: 0.2296 - val_mape: 1132465.7500\n",
            "Epoch 89/100\n",
            "403/403 [==============================] - 2s 4ms/step - loss: 0.2097 - mape: 1322735.3750 - val_loss: 0.2457 - val_mape: 1011527.8750\n",
            "Epoch 90/100\n",
            "403/403 [==============================] - 2s 5ms/step - loss: 0.2108 - mape: 1295113.3750 - val_loss: 0.2554 - val_mape: 1290860.1250\n",
            "Epoch 91/100\n",
            "403/403 [==============================] - 2s 5ms/step - loss: 0.2129 - mape: 1310238.2500 - val_loss: 0.2342 - val_mape: 1123195.1250\n",
            "Epoch 92/100\n",
            "403/403 [==============================] - 2s 5ms/step - loss: 0.2120 - mape: 1320549.7500 - val_loss: 0.2426 - val_mape: 1244698.8750\n",
            "Epoch 93/100\n",
            "403/403 [==============================] - 2s 4ms/step - loss: 0.2089 - mape: 1263651.2500 - val_loss: 0.2282 - val_mape: 1080302.7500\n",
            "Epoch 94/100\n",
            "403/403 [==============================] - 2s 5ms/step - loss: 0.2107 - mape: 1310311.5000 - val_loss: 0.2279 - val_mape: 1142764.8750\n",
            "Epoch 95/100\n",
            "403/403 [==============================] - 2s 5ms/step - loss: 0.2108 - mape: 1310147.1250 - val_loss: 0.5455 - val_mape: 1914651.3750\n",
            "Epoch 96/100\n",
            "403/403 [==============================] - 2s 5ms/step - loss: 0.2106 - mape: 1280739.1250 - val_loss: 0.2319 - val_mape: 1039891.5625\n",
            "Epoch 97/100\n",
            "403/403 [==============================] - 2s 5ms/step - loss: 0.2093 - mape: 1299752.1250 - val_loss: 0.2260 - val_mape: 1140299.6250\n",
            "Epoch 98/100\n",
            "403/403 [==============================] - 2s 5ms/step - loss: 0.2110 - mape: 1309681.5000 - val_loss: 0.2268 - val_mape: 1028363.3750\n",
            "Epoch 99/100\n",
            "403/403 [==============================] - 2s 5ms/step - loss: 0.2086 - mape: 1277684.3750 - val_loss: 0.2544 - val_mape: 1262435.2500\n",
            "Epoch 100/100\n",
            "403/403 [==============================] - 2s 5ms/step - loss: 0.2092 - mape: 1294103.6250 - val_loss: 0.2382 - val_mape: 1037012.3750\n"
          ]
        }
      ],
      "source": [
        "# Full training of best model\n",
        "H = DNN.fit(x=x_train, y=y_train, batch_size=64, epochs=100, validation_split=0.1)"
      ]
    },
    {
      "cell_type": "markdown",
      "metadata": {
        "id": "YABYPnzS8ab3"
      },
      "source": [
        "# 3.2 Auto tuning of hyperparams: number of layers, number of units, and optimizer"
      ]
    },
    {
      "cell_type": "code",
      "execution_count": 42,
      "metadata": {
        "id": "BTI4XeEIDENi"
      },
      "outputs": [],
      "source": [
        "def model_builder(hp):\n",
        "  ''' Define a auxiliar function to create DNN models with varying\n",
        "      hyperparameters.\n",
        "  '''\n",
        "  model = Sequential()\n",
        "  model.add(InputLayer(input_shape=x_train.shape[1:], name='INPUT'))\n",
        "\n",
        "  # Choose optimal number of layers between 2 and 8\n",
        "  for i in range(hp.Int('num_layers', 2, 8)):\n",
        "    # Tune the number of units in the each dense layer\n",
        "    hp_units = hp.Int('units_'+str(i), min_value=64, max_value=1024, step=64)\n",
        "    model.add(Dense(units=hp_units, activation='relu'))\n",
        "  # Add output layer\n",
        "  model.add(Dense(units=y_train.shape[1], name='OUTPUT'))\n",
        "\n",
        "  # Choose best optimizer\n",
        "  model.compile(optimizer=hp.Choice('optimizer', values=['sgd', 'adam', 'adagrad', 'adadelta']), loss='mse', metrics=['mape'])\n",
        "  \n",
        "  return model"
      ]
    },
    {
      "cell_type": "code",
      "execution_count": 43,
      "metadata": {
        "id": "8BfZHAjl816a"
      },
      "outputs": [],
      "source": [
        "def model_builder(hp):\n",
        "  model = Sequential()\n",
        "  model.add(InputLayer(input_shape=x_train.shape[1:], name='INPUT'))\n",
        "\n",
        "  # Choose an optimal number of units between 64-1024\n",
        "  #hp_units = hp.Int('units', min_value=64, max_value=1024, step=64)\n",
        "  # Choose optimal number of layers between 2 and 8\n",
        "  for i in range(hp.Int('layers', 2, 8)):\n",
        "    model.add(Dense(units=hp.Int('units_' + str(i), min_value=64, max_value=1024, step=64), activation='relu'))\n",
        "    #model.add(Dense(units=hp_units, activation='relu'))\n",
        "  # Add output layer\n",
        "  model.add(Dense(units=y_train.shape[1], name='OUTPUT'))\n",
        "\n",
        "  # Choose best optimizer\n",
        "  model.compile(optimizer=hp.Choice('optimizer', values=['sgd', 'adam', 'adagrad', 'adadelta']), loss='mse', metrics=['mape'])\n",
        "  \n",
        "  return model"
      ]
    },
    {
      "cell_type": "code",
      "execution_count": 44,
      "metadata": {
        "colab": {
          "base_uri": "https://localhost:8080/"
        },
        "id": "qROz7Ldj816c",
        "outputId": "03a3e043-ee75-4eb0-e2ce-2fc77202292a"
      },
      "outputs": [
        {
          "name": "stdout",
          "output_type": "stream",
          "text": [
            "INFO:tensorflow:Reloading Tuner from .\\untitled_project\\tuner0.json\n",
            "Search space summary\n",
            "Default search space size: 2\n",
            "units (Int)\n",
            "{'default': None, 'conditions': [], 'min_value': 64, 'max_value': 1024, 'step': 64, 'sampling': 'linear'}\n",
            "optimizer (Choice)\n",
            "{'default': 'sgd', 'conditions': [], 'values': ['sgd', 'adam', 'adagrad', 'adadelta'], 'ordered': False}\n"
          ]
        }
      ],
      "source": [
        "# Create a tuner and show the search space\n",
        "tuner = RandomSearch(model_builder,\n",
        "                     objective='val_loss',\n",
        "                     max_trials=64)\n",
        "\n",
        "tuner.search_space_summary()"
      ]
    },
    {
      "cell_type": "code",
      "execution_count": 45,
      "metadata": {
        "colab": {
          "base_uri": "https://localhost:8080/"
        },
        "id": "csXz6fCT816e",
        "outputId": "ad967590-d5fa-4264-bdd6-cf52fbcebfee"
      },
      "outputs": [
        {
          "name": "stdout",
          "output_type": "stream",
          "text": [
            "Trial 59 Complete [00h 01m 43s]\n",
            "val_loss: nan\n",
            "\n",
            "Best val_loss So Far: 0.22705252468585968\n",
            "Total elapsed time: 00h 43m 47s\n",
            "\n",
            "Search: Running Trial #60\n",
            "\n",
            "Value             |Best Value So Far |Hyperparameter\n",
            "832               |768               |units\n",
            "adadelta          |adagrad           |optimizer\n",
            "3                 |8                 |layers\n",
            "960               |896               |units_0\n",
            "128               |64                |units_1\n",
            "64                |896               |units_2\n",
            "768               |384               |units_3\n",
            "256               |704               |units_4\n",
            "384               |640               |units_5\n",
            "512               |64                |units_6\n",
            "384               |64                |units_7\n",
            "\n"
          ]
        }
      ],
      "source": [
        "# Make an initial quick exploration of the hyperparam space\n",
        "tuner.search(x_train, y_train, epochs=10, validation_split=0.1)"
      ]
    },
    {
      "cell_type": "code",
      "execution_count": null,
      "metadata": {
        "colab": {
          "base_uri": "https://localhost:8080/"
        },
        "id": "MPbRzq6_816f",
        "outputId": "c29c4848-568c-43f9-a2db-702d6913ea50"
      },
      "outputs": [
        {
          "name": "stdout",
          "output_type": "stream",
          "text": [
            "Model: \"sequential\"\n",
            "_________________________________________________________________\n",
            " Layer (type)                Output Shape              Param #   \n",
            "=================================================================\n",
            " dense (Dense)               (None, 960)               27840     \n",
            "                                                                 \n",
            " dense_1 (Dense)             (None, 192)               184512    \n",
            "                                                                 \n",
            " dense_2 (Dense)             (None, 64)                12352     \n",
            "                                                                 \n",
            " dense_3 (Dense)             (None, 64)                4160      \n",
            "                                                                 \n",
            " OUTPUT (Dense)              (None, 2)                 130       \n",
            "                                                                 \n",
            "=================================================================\n",
            "Total params: 228,994\n",
            "Trainable params: 228,994\n",
            "Non-trainable params: 0\n",
            "_________________________________________________________________\n"
          ]
        },
        {
          "name": "stderr",
          "output_type": "stream",
          "text": [
            "WARNING:tensorflow:Detecting that an object or model or tf.train.Checkpoint is being deleted with unrestored values. See the following logs for the specific values in question. To silence these warnings, use `status.expect_partial()`. See https://www.tensorflow.org/api_docs/python/tf/train/Checkpoint#restorefor details about the status object returned by the restore function.\n",
            "WARNING:tensorflow:Value in checkpoint could not be found in the restored object: (root).optimizer.iter\n",
            "WARNING:tensorflow:Value in checkpoint could not be found in the restored object: (root).optimizer.decay\n",
            "WARNING:tensorflow:Value in checkpoint could not be found in the restored object: (root).optimizer.learning_rate\n"
          ]
        }
      ],
      "source": [
        "# Get the top model\n",
        "tuner.get_best_models()[0].summary()"
      ]
    },
    {
      "cell_type": "code",
      "execution_count": null,
      "metadata": {
        "colab": {
          "base_uri": "https://localhost:8080/"
        },
        "id": "Fk5_k3SY816h",
        "outputId": "1b2e5ee7-042a-4e83-d8be-434eb598e533"
      },
      "outputs": [
        {
          "name": "stdout",
          "output_type": "stream",
          "text": [
            "Model: \"sequential_1\"\n",
            "_________________________________________________________________\n",
            " Layer (type)                Output Shape              Param #   \n",
            "=================================================================\n",
            " dense_4 (Dense)             (None, 960)               27840     \n",
            "                                                                 \n",
            " dense_5 (Dense)             (None, 192)               184512    \n",
            "                                                                 \n",
            " dense_6 (Dense)             (None, 64)                12352     \n",
            "                                                                 \n",
            " dense_7 (Dense)             (None, 64)                4160      \n",
            "                                                                 \n",
            " OUTPUT (Dense)              (None, 2)                 130       \n",
            "                                                                 \n",
            "=================================================================\n",
            "Total params: 228,994\n",
            "Trainable params: 228,994\n",
            "Non-trainable params: 0\n",
            "_________________________________________________________________\n"
          ]
        }
      ],
      "source": [
        "# Create a new model using the best hyperparams\n",
        "DNN = model_builder(tuner.get_best_hyperparameters()[0])\n",
        "DNN.summary()"
      ]
    },
    {
      "cell_type": "code",
      "execution_count": null,
      "metadata": {
        "colab": {
          "base_uri": "https://localhost:8080/"
        },
        "id": "dPBWgCyh816h",
        "outputId": "d6f9059f-7d60-495e-bf64-50d20424624b"
      },
      "outputs": [
        {
          "name": "stdout",
          "output_type": "stream",
          "text": [
            "Epoch 1/100\n",
            "403/403 [==============================] - 2s 4ms/step - loss: 14.7945 - mape: 3864440.7500 - val_loss: 0.3963 - val_mape: 1569211.3750\n",
            "Epoch 2/100\n",
            "403/403 [==============================] - 1s 3ms/step - loss: 0.3291 - mape: 1651033.5000 - val_loss: 0.3181 - val_mape: 1057924.8750\n",
            "Epoch 3/100\n",
            "403/403 [==============================] - 1s 3ms/step - loss: 0.2901 - mape: 1523127.8750 - val_loss: 0.2829 - val_mape: 1350058.6250\n",
            "Epoch 4/100\n",
            "403/403 [==============================] - 1s 3ms/step - loss: 0.2724 - mape: 1502758.1250 - val_loss: 0.2654 - val_mape: 888666.5625\n",
            "Epoch 5/100\n",
            "403/403 [==============================] - 1s 3ms/step - loss: 0.2612 - mape: 1508314.8750 - val_loss: 0.2760 - val_mape: 882601.8125\n",
            "Epoch 6/100\n",
            "403/403 [==============================] - 1s 3ms/step - loss: 0.2539 - mape: 1442887.5000 - val_loss: 0.2835 - val_mape: 756900.3125\n",
            "Epoch 7/100\n",
            "403/403 [==============================] - 1s 3ms/step - loss: 0.2485 - mape: 1430663.8750 - val_loss: 0.2500 - val_mape: 962970.2500\n",
            "Epoch 8/100\n",
            "403/403 [==============================] - 1s 3ms/step - loss: 0.2435 - mape: 1418963.0000 - val_loss: 0.2435 - val_mape: 1138973.0000\n",
            "Epoch 9/100\n",
            "403/403 [==============================] - 1s 3ms/step - loss: 0.2410 - mape: 1420965.0000 - val_loss: 0.2442 - val_mape: 717927.1250\n",
            "Epoch 10/100\n",
            "403/403 [==============================] - 1s 3ms/step - loss: 0.2373 - mape: 1409871.3750 - val_loss: 0.2456 - val_mape: 961132.0000\n",
            "Epoch 11/100\n",
            "403/403 [==============================] - 1s 3ms/step - loss: 0.2348 - mape: 1376103.2500 - val_loss: 0.2396 - val_mape: 852726.6250\n",
            "Epoch 12/100\n",
            "403/403 [==============================] - 1s 3ms/step - loss: 0.2342 - mape: 1411051.0000 - val_loss: 0.2387 - val_mape: 1087208.3750\n",
            "Epoch 13/100\n",
            "403/403 [==============================] - 1s 3ms/step - loss: 0.2325 - mape: 1362655.5000 - val_loss: 0.2365 - val_mape: 1072467.2500\n",
            "Epoch 14/100\n",
            "403/403 [==============================] - 1s 3ms/step - loss: 0.2299 - mape: 1397497.8750 - val_loss: 0.2328 - val_mape: 865324.6875\n",
            "Epoch 15/100\n",
            "403/403 [==============================] - 1s 3ms/step - loss: 0.2296 - mape: 1346988.8750 - val_loss: 0.2334 - val_mape: 888761.9375\n",
            "Epoch 16/100\n",
            "403/403 [==============================] - 1s 3ms/step - loss: 0.2272 - mape: 1420447.7500 - val_loss: 0.2403 - val_mape: 788942.6875\n",
            "Epoch 17/100\n",
            "403/403 [==============================] - 1s 3ms/step - loss: 0.2266 - mape: 1367901.2500 - val_loss: 0.2273 - val_mape: 930254.1250\n",
            "Epoch 18/100\n",
            "403/403 [==============================] - 1s 3ms/step - loss: 0.2259 - mape: 1362411.8750 - val_loss: 0.2292 - val_mape: 824730.1250\n",
            "Epoch 19/100\n",
            "403/403 [==============================] - 1s 3ms/step - loss: 0.2261 - mape: 1342128.6250 - val_loss: 0.2348 - val_mape: 960319.3750\n",
            "Epoch 20/100\n",
            "403/403 [==============================] - 1s 3ms/step - loss: 0.2240 - mape: 1380138.5000 - val_loss: 0.2289 - val_mape: 877994.4375\n",
            "Epoch 21/100\n",
            "403/403 [==============================] - 1s 3ms/step - loss: 0.2224 - mape: 1354956.8750 - val_loss: 0.2327 - val_mape: 1047590.4375\n",
            "Epoch 22/100\n",
            "403/403 [==============================] - 1s 3ms/step - loss: 0.2215 - mape: 1346496.8750 - val_loss: 0.2279 - val_mape: 774507.6250\n",
            "Epoch 23/100\n",
            "403/403 [==============================] - 1s 3ms/step - loss: 0.2210 - mape: 1324919.0000 - val_loss: 0.2268 - val_mape: 797876.8125\n",
            "Epoch 24/100\n",
            "403/403 [==============================] - 1s 3ms/step - loss: 0.2208 - mape: 1328054.6250 - val_loss: 0.2255 - val_mape: 847910.1875\n",
            "Epoch 25/100\n",
            "403/403 [==============================] - 1s 3ms/step - loss: 0.2201 - mape: 1297664.6250 - val_loss: 0.2282 - val_mape: 806083.8125\n",
            "Epoch 26/100\n",
            "403/403 [==============================] - 1s 3ms/step - loss: 0.2205 - mape: 1336811.1250 - val_loss: 0.2321 - val_mape: 812504.7500\n",
            "Epoch 27/100\n",
            "403/403 [==============================] - 1s 3ms/step - loss: 0.2196 - mape: 1291349.2500 - val_loss: 0.2275 - val_mape: 899179.0000\n",
            "Epoch 28/100\n",
            "403/403 [==============================] - 1s 3ms/step - loss: 0.2190 - mape: 1301760.0000 - val_loss: 0.2217 - val_mape: 848712.7500\n",
            "Epoch 29/100\n",
            "403/403 [==============================] - 1s 3ms/step - loss: 0.2186 - mape: 1321866.8750 - val_loss: 0.2282 - val_mape: 787277.5625\n",
            "Epoch 30/100\n",
            "403/403 [==============================] - 1s 3ms/step - loss: 0.2174 - mape: 1300026.6250 - val_loss: 0.2272 - val_mape: 1032231.1250\n",
            "Epoch 31/100\n",
            "403/403 [==============================] - 1s 3ms/step - loss: 0.2164 - mape: 1316029.2500 - val_loss: 0.2396 - val_mape: 1017910.4375\n",
            "Epoch 32/100\n",
            "403/403 [==============================] - 1s 3ms/step - loss: 0.2167 - mape: 1307581.3750 - val_loss: 0.2208 - val_mape: 901064.3750\n",
            "Epoch 33/100\n",
            "403/403 [==============================] - 1s 3ms/step - loss: 0.2165 - mape: 1307028.1250 - val_loss: 0.2278 - val_mape: 897667.1875\n",
            "Epoch 34/100\n",
            "403/403 [==============================] - 1s 3ms/step - loss: 0.2155 - mape: 1360169.3750 - val_loss: 0.2198 - val_mape: 799516.8125\n",
            "Epoch 35/100\n",
            "403/403 [==============================] - 1s 3ms/step - loss: 0.2147 - mape: 1277267.5000 - val_loss: 0.2303 - val_mape: 803258.8750\n",
            "Epoch 36/100\n",
            "403/403 [==============================] - 1s 3ms/step - loss: 0.2147 - mape: 1288331.3750 - val_loss: 0.2196 - val_mape: 850813.6875\n",
            "Epoch 37/100\n",
            "403/403 [==============================] - 1s 3ms/step - loss: 0.2137 - mape: 1306157.0000 - val_loss: 0.2217 - val_mape: 742616.1250\n",
            "Epoch 38/100\n",
            "403/403 [==============================] - 1s 3ms/step - loss: 0.2146 - mape: 1288380.1250 - val_loss: 0.2202 - val_mape: 803936.3750\n",
            "Epoch 39/100\n",
            "403/403 [==============================] - 1s 3ms/step - loss: 0.2140 - mape: 1293892.2500 - val_loss: 0.2210 - val_mape: 964944.8125\n",
            "Epoch 40/100\n",
            "403/403 [==============================] - 1s 3ms/step - loss: 0.2127 - mape: 1310964.0000 - val_loss: 0.2334 - val_mape: 909612.5000\n",
            "Epoch 41/100\n",
            "403/403 [==============================] - 1s 3ms/step - loss: 0.2129 - mape: 1286637.2500 - val_loss: 0.2347 - val_mape: 860112.4375\n",
            "Epoch 42/100\n",
            "403/403 [==============================] - 1s 3ms/step - loss: 0.2131 - mape: 1312609.5000 - val_loss: 0.2205 - val_mape: 879640.1250\n",
            "Epoch 43/100\n",
            "403/403 [==============================] - 1s 3ms/step - loss: 0.2123 - mape: 1273272.5000 - val_loss: 0.2297 - val_mape: 857384.7500\n",
            "Epoch 44/100\n",
            "403/403 [==============================] - 1s 3ms/step - loss: 0.2112 - mape: 1271121.3750 - val_loss: 0.2209 - val_mape: 965975.7500\n",
            "Epoch 45/100\n",
            "403/403 [==============================] - 1s 3ms/step - loss: 0.2112 - mape: 1276466.1250 - val_loss: 0.2244 - val_mape: 959521.0625\n",
            "Epoch 46/100\n",
            "403/403 [==============================] - 1s 3ms/step - loss: 0.2107 - mape: 1296478.8750 - val_loss: 0.2206 - val_mape: 763277.2500\n",
            "Epoch 47/100\n",
            "403/403 [==============================] - 1s 3ms/step - loss: 0.2114 - mape: 1273296.2500 - val_loss: 0.2150 - val_mape: 866921.1250\n",
            "Epoch 48/100\n",
            "403/403 [==============================] - 1s 3ms/step - loss: 0.2106 - mape: 1246134.5000 - val_loss: 0.2262 - val_mape: 1075965.7500\n",
            "Epoch 49/100\n",
            "403/403 [==============================] - 1s 3ms/step - loss: 0.2097 - mape: 1293751.8750 - val_loss: 0.2272 - val_mape: 907624.6875\n",
            "Epoch 50/100\n",
            "403/403 [==============================] - 1s 3ms/step - loss: 0.2094 - mape: 1272635.5000 - val_loss: 0.2192 - val_mape: 1086482.0000\n",
            "Epoch 51/100\n",
            "403/403 [==============================] - 1s 3ms/step - loss: 0.2099 - mape: 1232411.8750 - val_loss: 0.2159 - val_mape: 841980.4375\n",
            "Epoch 52/100\n",
            "403/403 [==============================] - 1s 3ms/step - loss: 0.2097 - mape: 1271010.5000 - val_loss: 0.2245 - val_mape: 1030591.1250\n",
            "Epoch 53/100\n",
            "403/403 [==============================] - 1s 3ms/step - loss: 0.2089 - mape: 1294832.1250 - val_loss: 0.2241 - val_mape: 1059855.8750\n",
            "Epoch 54/100\n",
            "403/403 [==============================] - 1s 3ms/step - loss: 0.2089 - mape: 1262120.2500 - val_loss: 0.2218 - val_mape: 881496.3750\n",
            "Epoch 55/100\n",
            "403/403 [==============================] - 1s 3ms/step - loss: 0.2087 - mape: 1226833.5000 - val_loss: 0.2203 - val_mape: 939117.8750\n",
            "Epoch 56/100\n",
            "403/403 [==============================] - 1s 3ms/step - loss: 0.2090 - mape: 1267251.0000 - val_loss: 0.2430 - val_mape: 902010.8125\n",
            "Epoch 57/100\n",
            "403/403 [==============================] - 1s 3ms/step - loss: 0.2084 - mape: 1248387.3750 - val_loss: 0.2123 - val_mape: 919530.4375\n",
            "Epoch 58/100\n",
            "403/403 [==============================] - 1s 4ms/step - loss: 0.2080 - mape: 1258581.5000 - val_loss: 0.2260 - val_mape: 733240.1875\n",
            "Epoch 59/100\n",
            "403/403 [==============================] - 1s 3ms/step - loss: 0.2080 - mape: 1218993.8750 - val_loss: 0.2233 - val_mape: 811961.5000\n",
            "Epoch 60/100\n",
            "403/403 [==============================] - 1s 3ms/step - loss: 0.2067 - mape: 1264338.2500 - val_loss: 0.2260 - val_mape: 938809.3750\n",
            "Epoch 61/100\n",
            "403/403 [==============================] - 1s 3ms/step - loss: 0.2081 - mape: 1279391.7500 - val_loss: 0.2166 - val_mape: 1099299.8750\n",
            "Epoch 62/100\n",
            "403/403 [==============================] - 1s 3ms/step - loss: 0.2070 - mape: 1220195.5000 - val_loss: 0.2144 - val_mape: 812635.3750\n",
            "Epoch 63/100\n",
            "403/403 [==============================] - 1s 3ms/step - loss: 0.2083 - mape: 1265766.6250 - val_loss: 0.2175 - val_mape: 975071.6250\n",
            "Epoch 64/100\n",
            "403/403 [==============================] - 1s 3ms/step - loss: 0.2072 - mape: 1272974.0000 - val_loss: 0.2173 - val_mape: 883799.5000\n",
            "Epoch 65/100\n",
            "403/403 [==============================] - 1s 3ms/step - loss: 0.2073 - mape: 1261877.2500 - val_loss: 0.2170 - val_mape: 857763.3750\n",
            "Epoch 66/100\n",
            "403/403 [==============================] - 1s 3ms/step - loss: 0.2066 - mape: 1223682.0000 - val_loss: 0.2130 - val_mape: 895938.3125\n",
            "Epoch 67/100\n",
            "403/403 [==============================] - 1s 3ms/step - loss: 0.2065 - mape: 1288822.1250 - val_loss: 0.2284 - val_mape: 792484.1250\n",
            "Epoch 68/100\n",
            "403/403 [==============================] - 1s 3ms/step - loss: 0.2056 - mape: 1225713.1250 - val_loss: 0.2147 - val_mape: 921372.8750\n",
            "Epoch 69/100\n",
            "403/403 [==============================] - 1s 3ms/step - loss: 0.2066 - mape: 1246313.6250 - val_loss: 0.2136 - val_mape: 870589.4375\n",
            "Epoch 70/100\n",
            "403/403 [==============================] - 1s 3ms/step - loss: 0.2060 - mape: 1239001.0000 - val_loss: 0.2142 - val_mape: 779278.1250\n",
            "Epoch 71/100\n",
            "403/403 [==============================] - 1s 3ms/step - loss: 0.2063 - mape: 1245662.5000 - val_loss: 0.2364 - val_mape: 921492.1250\n",
            "Epoch 72/100\n",
            "403/403 [==============================] - 1s 3ms/step - loss: 0.2057 - mape: 1258697.8750 - val_loss: 0.2146 - val_mape: 935263.1875\n",
            "Epoch 73/100\n",
            "403/403 [==============================] - 1s 3ms/step - loss: 0.2060 - mape: 1224870.1250 - val_loss: 0.2169 - val_mape: 875679.3750\n",
            "Epoch 74/100\n",
            "403/403 [==============================] - 1s 3ms/step - loss: 0.2060 - mape: 1246744.7500 - val_loss: 0.2135 - val_mape: 780993.6875\n",
            "Epoch 75/100\n",
            "403/403 [==============================] - 1s 3ms/step - loss: 0.2048 - mape: 1259577.8750 - val_loss: 0.2169 - val_mape: 827713.0000\n",
            "Epoch 76/100\n",
            "403/403 [==============================] - 1s 3ms/step - loss: 0.2055 - mape: 1234823.8750 - val_loss: 0.2137 - val_mape: 888421.7500\n",
            "Epoch 77/100\n",
            "403/403 [==============================] - 1s 3ms/step - loss: 0.2057 - mape: 1231422.5000 - val_loss: 0.2237 - val_mape: 840730.5625\n",
            "Epoch 78/100\n",
            "403/403 [==============================] - 1s 3ms/step - loss: 0.2049 - mape: 1237153.7500 - val_loss: 0.2138 - val_mape: 894772.5000\n",
            "Epoch 79/100\n",
            "403/403 [==============================] - 1s 4ms/step - loss: 0.2046 - mape: 1256730.6250 - val_loss: 0.2206 - val_mape: 760820.7500\n",
            "Epoch 80/100\n",
            "403/403 [==============================] - 1s 3ms/step - loss: 0.2048 - mape: 1215685.5000 - val_loss: 0.2332 - val_mape: 790827.8125\n",
            "Epoch 81/100\n",
            "403/403 [==============================] - 1s 3ms/step - loss: 0.2045 - mape: 1240763.2500 - val_loss: 0.2137 - val_mape: 825780.3750\n",
            "Epoch 82/100\n",
            "403/403 [==============================] - 1s 3ms/step - loss: 0.2042 - mape: 1216017.5000 - val_loss: 0.2163 - val_mape: 820589.7500\n",
            "Epoch 83/100\n",
            "403/403 [==============================] - 1s 3ms/step - loss: 0.2040 - mape: 1248598.0000 - val_loss: 0.2181 - val_mape: 744806.3125\n",
            "Epoch 84/100\n",
            "403/403 [==============================] - 1s 3ms/step - loss: 0.2039 - mape: 1240952.2500 - val_loss: 0.2189 - val_mape: 781591.0000\n",
            "Epoch 85/100\n",
            "403/403 [==============================] - 1s 3ms/step - loss: 0.2037 - mape: 1221164.5000 - val_loss: 0.2137 - val_mape: 967473.0000\n",
            "Epoch 86/100\n",
            "403/403 [==============================] - 1s 3ms/step - loss: 0.2034 - mape: 1216506.1250 - val_loss: 0.2128 - val_mape: 958848.8125\n",
            "Epoch 87/100\n",
            "403/403 [==============================] - 1s 3ms/step - loss: 0.2038 - mape: 1247252.3750 - val_loss: 0.2119 - val_mape: 830899.3125\n",
            "Epoch 88/100\n",
            "403/403 [==============================] - 1s 3ms/step - loss: 0.2036 - mape: 1236528.6250 - val_loss: 0.2343 - val_mape: 946247.3125\n",
            "Epoch 89/100\n",
            "403/403 [==============================] - 1s 3ms/step - loss: 0.2029 - mape: 1262894.5000 - val_loss: 0.2160 - val_mape: 955054.9375\n",
            "Epoch 90/100\n",
            "403/403 [==============================] - 1s 3ms/step - loss: 0.2039 - mape: 1265689.2500 - val_loss: 0.2148 - val_mape: 860519.2500\n",
            "Epoch 91/100\n",
            "403/403 [==============================] - 1s 3ms/step - loss: 0.2037 - mape: 1246420.1250 - val_loss: 0.2116 - val_mape: 916817.5000\n",
            "Epoch 92/100\n",
            "403/403 [==============================] - 1s 3ms/step - loss: 0.2039 - mape: 1249180.3750 - val_loss: 0.2159 - val_mape: 863347.3750\n",
            "Epoch 93/100\n",
            "403/403 [==============================] - 1s 3ms/step - loss: 0.2031 - mape: 1224190.7500 - val_loss: 0.2124 - val_mape: 1012133.7500\n",
            "Epoch 94/100\n",
            "403/403 [==============================] - 1s 3ms/step - loss: 0.2028 - mape: 1232343.3750 - val_loss: 0.2123 - val_mape: 915914.2500\n",
            "Epoch 95/100\n",
            "403/403 [==============================] - 1s 3ms/step - loss: 0.2027 - mape: 1246269.3750 - val_loss: 0.2110 - val_mape: 835284.5000\n",
            "Epoch 96/100\n",
            "403/403 [==============================] - 1s 3ms/step - loss: 0.2028 - mape: 1226170.8750 - val_loss: 0.2111 - val_mape: 1009628.2500\n",
            "Epoch 97/100\n",
            "403/403 [==============================] - 1s 3ms/step - loss: 0.2021 - mape: 1226969.6250 - val_loss: 0.2267 - val_mape: 862470.2500\n",
            "Epoch 98/100\n",
            "403/403 [==============================] - 1s 3ms/step - loss: 0.2029 - mape: 1240366.2500 - val_loss: 0.2166 - val_mape: 752676.5625\n",
            "Epoch 99/100\n",
            "403/403 [==============================] - 1s 3ms/step - loss: 0.2024 - mape: 1229189.8750 - val_loss: 0.2079 - val_mape: 870480.4375\n",
            "Epoch 100/100\n",
            "403/403 [==============================] - 1s 3ms/step - loss: 0.2023 - mape: 1255182.3750 - val_loss: 0.2088 - val_mape: 908628.0000\n"
          ]
        }
      ],
      "source": [
        "# Full training of best model\n",
        "H = DNN.fit(x=x_train, y=y_train, batch_size=64, epochs=100, validation_split=0.1)"
      ]
    },
    {
      "cell_type": "code",
      "execution_count": null,
      "metadata": {
        "colab": {
          "base_uri": "https://localhost:8080/",
          "height": 290
        },
        "id": "LYDG8I2N9IZN",
        "outputId": "cd82683a-e4da-41fa-809c-2ec192430645"
      },
      "outputs": [
        {
          "data": {
            "image/png": "[encoded data removed]",
            "text/plain": [
              "<Figure size 1440x288 with 2 Axes>"
            ]
          },
          "metadata": {
            "needs_background": "light"
          },
          "output_type": "display_data"
        }
      ],
      "source": [
        "# Plot loss\n",
        "plt.figure(figsize=(20, 4))\n",
        "plt.subplot(1, 2, 1)\n",
        "plt.plot(DNN.history.history['loss'], label='Training', linewidth=2)\n",
        "plt.plot(DNN.history.history['val_loss'], label='Validation', linewidth=2)\n",
        "plt.legend()\n",
        "plt.xlabel('Epoch')\n",
        "plt.ylabel('Loss (mse)')\n",
        "plt.grid()\n",
        "plt.subplot(1, 2, 2)\n",
        "plt.plot(DNN.history.history['mape'], label='Training', linewidth=2)\n",
        "plt.plot(DNN.history.history['val_mape'], label='Validation', linewidth=2)\n",
        "plt.legend()\n",
        "plt.xlabel('Epoch')\n",
        "plt.ylabel('MAPE')\n",
        "plt.grid()\n",
        "plt.show()"
      ]
    },
    {
      "cell_type": "code",
      "execution_count": null,
      "metadata": {
        "colab": {
          "base_uri": "https://localhost:8080/"
        },
        "id": "kxp-aIKj9IZP",
        "outputId": "d041f408-b63b-4720-b5b3-00e95424b3bc"
      },
      "outputs": [
        {
          "name": "stdout",
          "output_type": "stream",
          "text": [
            "Test loss and MAPE: [0.21122857928276062, 1183173.0]\n"
          ]
        }
      ],
      "source": [
        "# Compute test loss\n",
        "loss_test = DNN.evaluate(x=x_test, y=y_test, verbose=False)\n",
        "print(\"Test loss and MAPE:\", loss_test)"
      ]
    },
    {
      "cell_type": "code",
      "execution_count": null,
      "metadata": {
        "colab": {
          "base_uri": "https://localhost:8080/"
        },
        "id": "eJEi2uok9IZQ",
        "outputId": "26db3606-53aa-4386-f4f2-426f115704f8"
      },
      "outputs": [
        {
          "name": "stdout",
          "output_type": "stream",
          "text": [
            "100/100 [==============================] - 0s 1ms/step\n",
            "(3182, 2)\n"
          ]
        }
      ],
      "source": [
        "# Predict on test set\n",
        "y_test_hat = DNN.predict(x=x_test)\n",
        "print(y_test_hat.shape)"
      ]
    },
    {
      "cell_type": "code",
      "execution_count": null,
      "metadata": {
        "colab": {
          "base_uri": "https://localhost:8080/",
          "height": 295
        },
        "id": "f_4_ldJB9IZQ",
        "outputId": "556874e6-f6f6-497e-e794-fbf7e2a40b6c"
      },
      "outputs": [
        {
          "data": {
            "image/png": "[encoded data removed]",
            "text/plain": [
              "<Figure size 432x288 with 1 Axes>"
            ]
          },
          "metadata": {
            "needs_background": "light"
          },
          "output_type": "display_data"
        }
      ],
      "source": [
        "# Plot y_test_hat\n",
        "indx = np.random.permutation(len(y_test))[:500]\n",
        "plt.scatter(y_test[indx, 0], y_test[indx, 1], c='b', label='y')\n",
        "plt.scatter(y_test_hat[indx, 0], y_test_hat[indx, 1], c='r', marker='+', label='y_h')\n",
        "\n",
        "plt.legend()\n",
        "plt.grid(True)\n",
        "plt.xlabel('PM2.5')\n",
        "plt.ylabel('NO2')\n",
        "plt.title('Test set and its predictions')\n",
        "plt.show()"
      ]
    },
    {
      "cell_type": "markdown",
      "metadata": {
        "id": "dfa1V1ugGNMw"
      },
      "source": [
        "# Part 4: save model to disk and load ti back"
      ]
    },
    {
      "cell_type": "code",
      "execution_count": null,
      "metadata": {
        "id": "Dj1cG1L5GRf_"
      },
      "outputs": [],
      "source": [
        "# Save model to disk, then delete it\n",
        "DNN.save(\"my_DNN_model.h5\")\n",
        "\n",
        "del DNN"
      ]
    },
    {
      "cell_type": "code",
      "execution_count": null,
      "metadata": {
        "colab": {
          "base_uri": "https://localhost:8080/"
        },
        "id": "tz95tvPvGamV",
        "outputId": "90213a02-47ce-48bb-d7b8-9fdc59caed2c"
      },
      "outputs": [
        {
          "name": "stdout",
          "output_type": "stream",
          "text": [
            "100/100 [==============================] - 0s 1ms/step\n",
            "(3182, 2)\n"
          ]
        }
      ],
      "source": [
        "# Load model back into memory, and use it for prediction\n",
        "from tensorflow.keras.models import load_model\n",
        "DNN = load_model(\"my_DNN_model.h5\")\n",
        "\n",
        "y_test_hat = DNN.predict(x=x_test)\n",
        "print(y_test_hat.shape)"
      ]
    },
    {
      "cell_type": "code",
      "execution_count": null,
      "metadata": {
        "id": "8r52F4EqgDR4"
      },
      "outputs": [],
      "source": []
    }
  ],
  "metadata": {
    "accelerator": "GPU",
    "colab": {
      "collapsed_sections": [
        "oN6aBWNOWrY7",
        "7AnH6VY-W09n",
        "Xx9N-n_K4_3k",
        "Flg_pGZD5_0F"
      ],
      "provenance": []
    },
    "gpuClass": "standard",
    "kernelspec": {
      "display_name": "itam",
      "language": "python",
      "name": "python3"
    },
    "language_info": {
      "codemirror_mode": {
        "name": "ipython",
        "version": 3
      },
      "file_extension": ".py",
      "mimetype": "text/x-python",
      "name": "python",
      "nbconvert_exporter": "python",
      "pygments_lexer": "ipython3",
      "version": "3.10.6"
    },
    "vscode": {
      "interpreter": {
        "hash": "57ed74b598afec10a3f098df09e5873af7e470f372131134224b28d49fce31b1"
      }
    }
  },
  "nbformat": 4,
  "nbformat_minor": 0
}
